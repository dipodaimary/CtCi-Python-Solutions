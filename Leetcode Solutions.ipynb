{
 "cells": [
  {
   "cell_type": "markdown",
   "metadata": {},
   "source": [
    "### 3 Sum"
   ]
  },
  {
   "cell_type": "code",
   "execution_count": 1,
   "metadata": {
    "collapsed": true
   },
   "outputs": [],
   "source": [
    "import collections\n",
    "class Solution(object):\n",
    "    def threeSum(self,nums):\n",
    "        nums,result,i=sorted(nums),[],0\n",
    "        while i<len(nums)-2:\n",
    "            i+=1"
   ]
  },
  {
   "cell_type": "markdown",
   "metadata": {},
   "source": [
    "### Sub rectangle sum in immutable 2D array \n",
    "Time:  ctor:   O(m * n),\n",
    "\n",
    "       lookup: O(1)\n",
    "       \n",
    "Space: O(m * n)\n",
    "\n",
    "Given a 2D matrix matrix, find the sum of the elements inside\n",
    "\n",
    "the rectangle defined by its upper left corner (row1, col1)\n",
    "\n",
    "and lower right corner (row2, col2).\n",
    "\n",
    "Range Sum Query 2D\n",
    "\n",
    "The above rectangle (with the red border) is defined by\n",
    "\n",
    "(row1, col1) = (2, 1) and (row2, col2) = (4, 3),\n",
    "\n",
    "which contains sum = 8.\n",
    "\n",
    "Example:\n",
    "\n",
    "Given matrix = [\n",
    "\n",
    "  [3, 0, 1, 4, 2],\n",
    "  \n",
    "  [5, 6, 3, 2, 1],\n",
    "  \n",
    "  [1, 2, 0, 1, 5],\n",
    "  \n",
    "  [4, 1, 0, 1, 7],\n",
    "  \n",
    "  [1, 0, 3, 0, 5]\n",
    "  \n",
    "]\n",
    "\n",
    "sumRegion(2, 1, 4, 3) -> 8\n",
    "\n",
    "sumRegion(1, 1, 2, 2) -> 11\n",
    "\n",
    "sumRegion(1, 2, 2, 4) -> 12\n",
    "\n",
    "Note:\n",
    "\n",
    "You may assume that the matrix does not change.\n",
    "\n",
    "There are many calls to sumRegion function.\n",
    "\n",
    "You may assume that row1 <= row2 and col1 <= col2.\n"
   ]
  },
  {
   "cell_type": "code",
   "execution_count": 9,
   "metadata": {},
   "outputs": [
    {
     "name": "stdout",
     "output_type": "stream",
     "text": [
      "[[0, 0, 0, 0, 0], [0, 0, 0, 0, 0], [0, 0, 0, 0, 0], [0, 0, 0, 0, 0]]\n"
     ]
    }
   ],
   "source": [
    "class NumMatrix(object):\n",
    "    def __init__(self,matrix):\n",
    "        if not matrix:\n",
    "            return\n",
    "        m,n = len(matrix),len(matrix[0])\n",
    "        self.__sums = [[0 for _ in range(n+1)] for _ in range(m+1)]\n",
    "        for i in range(1,m+1):\n",
    "            for j in range(1,n+1):\n",
    "                self.__sums[i][j]=self.__sums[i][j-1]+self.__matrix[i-1][j-1]\n",
    "                \n",
    "        for j in range(1,n+1):\n",
    "            for i in range(m+1):\n",
    "                self.__sums[i][j]+=self.__sums[i-1][j]\n",
    "                \n",
    "    def sumRegion(self, row1, col1, row2, col2):\n",
    "        \"\"\"\n",
    "        sum of elements matrix[(row1,col1)..(row2,col2)], inclusive.\n",
    "        :type row1: int\n",
    "        :type col1: int\n",
    "        :type row2: int\n",
    "        :type col2: int\n",
    "        :rtype: int\n",
    "        \"\"\"\n",
    "        return self.__sums[row2+1][col2+1] - self.__sums[row2+1][col1] - \\\n",
    "               self.__sums[row1][col2+1] + self.__sums[row1][col1]\n",
    "  \n",
    "#Testing\n",
    "m,n = 3,4\n",
    "sums = [[0 for _ in range(n+1)] for _ in range(m+1)]\n",
    "print(sums)\n",
    "        "
   ]
  }
 ],
 "metadata": {
  "kernelspec": {
   "display_name": "Python 3",
   "language": "python",
   "name": "python3"
  },
  "language_info": {
   "codemirror_mode": {
    "name": "ipython",
    "version": 3
   },
   "file_extension": ".py",
   "mimetype": "text/x-python",
   "name": "python",
   "nbconvert_exporter": "python",
   "pygments_lexer": "ipython3",
   "version": "3.6.3"
  }
 },
 "nbformat": 4,
 "nbformat_minor": 2
}
