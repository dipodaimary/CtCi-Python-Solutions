{
 "cells": [
  {
   "cell_type": "code",
   "execution_count": 1,
   "metadata": {},
   "outputs": [
    {
     "name": "stdout",
     "output_type": "stream",
     "text": [
      "21\n",
      "16\n"
     ]
    }
   ],
   "source": [
    "def sum(n):\n",
    "    if n <= 0:\n",
    "        return 0\n",
    "    else:\n",
    "        return n + sum(n - 1)\n",
    "\n",
    "\n",
    "class PairSum:\n",
    "    def pair_sum(self, a, b):\n",
    "        return a + b\n",
    "\n",
    "    def pair_sum_sequence(self, n):\n",
    "        sum = 0\n",
    "        for i in range(n):\n",
    "            sum += self.pair_sum(i, i + 1)\n",
    "        return sum\n",
    "\n",
    "\n",
    "if __name__ == '__main__':\n",
    "    print(sum(6))\n",
    "    ob1 = PairSum()\n",
    "    print(ob1.pair_sum_sequence(4))"
   ]
  }
 ],
 "metadata": {
  "kernelspec": {
   "display_name": "Python 3",
   "language": "python",
   "name": "python3"
  },
  "language_info": {
   "codemirror_mode": {
    "name": "ipython",
    "version": 3
   },
   "file_extension": ".py",
   "mimetype": "text/x-python",
   "name": "python",
   "nbconvert_exporter": "python",
   "pygments_lexer": "ipython3",
   "version": "3.6.3"
  }
 },
 "nbformat": 4,
 "nbformat_minor": 2
}
