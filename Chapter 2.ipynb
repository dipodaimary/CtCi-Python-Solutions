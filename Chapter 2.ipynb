{
 "cells": [
  {
   "cell_type": "markdown",
   "metadata": {
    "collapsed": true
   },
   "source": [
    "### Linked List Class"
   ]
  },
  {
   "cell_type": "code",
   "execution_count": 3,
   "metadata": {
    "collapsed": true
   },
   "outputs": [],
   "source": [
    "from random import randint\n",
    "\n",
    "\n",
    "class LinkedListNode:\n",
    "\n",
    "    def __init__(self, value, nextNode=None, prevNode=None):\n",
    "        self.value = value\n",
    "        self.next = nextNode\n",
    "        self.prev = prevNode\n",
    "\n",
    "    def __str__(self):\n",
    "        return str(self.value)\n",
    "\n",
    "\n",
    "class LinkedList:\n",
    "\n",
    "    def __init__(self, values=None):\n",
    "        self.head = None\n",
    "        self.tail = None\n",
    "        if values is not None:\n",
    "            self.add_multiple(values)\n",
    "\n",
    "    def __iter__(self):\n",
    "        current = self.head\n",
    "        while current:\n",
    "            yield current\n",
    "            current = current.next\n",
    "\n",
    "    def __str__(self):\n",
    "        values = [str(x) for x in self]\n",
    "        return ' -> '.join(values)\n",
    "\n",
    "    def __len__(self):\n",
    "        result = 0\n",
    "        node = self.head\n",
    "        while node:\n",
    "            result += 1\n",
    "            node = node.next\n",
    "        return result\n",
    "\n",
    "    def add(self, value):\n",
    "        if self.head is None:\n",
    "            self.tail = self.head = LinkedListNode(value)\n",
    "        else:\n",
    "            self.tail.next = LinkedListNode(value)\n",
    "            self.tail = self.tail.next\n",
    "        return self.tail\n",
    "\n",
    "    def add_to_beginning(self, value):\n",
    "        if self.head is None:\n",
    "            self.tail = self.head = LinkedListNode(value)\n",
    "        else:\n",
    "            self.head = LinkedListNode(value, self.head)\n",
    "        return self.head\n",
    "\n",
    "    def add_multiple(self, values):\n",
    "        for v in values:\n",
    "            self.add(v)\n",
    "\n",
    "    def generate(self, n, min_value, max_value):\n",
    "        self.head = self.tail = None\n",
    "        for i in range(n):\n",
    "            self.add(randint(min_value, max_value))\n",
    "        return self\n",
    "\n",
    "\n",
    "class DoublyLinkedList(LinkedList):\n",
    "\n",
    "    def add(self, value):\n",
    "        if self.head is None:\n",
    "            self.tail = self.head = LinkedListNode(value, None, self.tail)\n",
    "        else:\n",
    "            self.tail.next = LinkedListNode(value)\n",
    "            self.tail = self.tail.next\n",
    "        return self"
   ]
  },
  {
   "cell_type": "markdown",
   "metadata": {},
   "source": [
    "### 2.1\n",
    "Remove Dups: Write code to remove duplicates from an unsorted li nked list.\n",
    "FOLLOW UP\n",
    "How would you solve this problem if a temporary buffer is not allowed?"
   ]
  },
  {
   "cell_type": "code",
   "execution_count": 4,
   "metadata": {},
   "outputs": [
    {
     "name": "stdout",
     "output_type": "stream",
     "text": [
      "0 -> 0 -> 4 -> 2 -> 0 -> 4 -> 0 -> 1 -> 6 -> 4 -> 1 -> 8 -> 5 -> 1 -> 3 -> 1 -> 7 -> 7 -> 4 -> 9 -> 1 -> 1 -> 1 -> 5 -> 4 -> 6 -> 7 -> 6 -> 6 -> 9 -> 3 -> 6 -> 7 -> 9 -> 5 -> 0 -> 5 -> 7 -> 2 -> 9 -> 4 -> 2 -> 3 -> 2 -> 1 -> 8 -> 9 -> 3 -> 6 -> 5 -> 7 -> 4 -> 2 -> 8 -> 1 -> 0 -> 1 -> 3 -> 4 -> 2 -> 5 -> 5 -> 3 -> 8 -> 9 -> 2 -> 2 -> 4 -> 5 -> 9 -> 6 -> 0 -> 6 -> 4 -> 3 -> 5 -> 7 -> 5 -> 8 -> 1 -> 5 -> 4 -> 1 -> 2 -> 1 -> 5 -> 5 -> 4 -> 4 -> 9 -> 2 -> 2 -> 3 -> 3 -> 9 -> 5 -> 7 -> 0 -> 7 -> 5\n",
      "0 -> 4 -> 2 -> 1 -> 6 -> 8 -> 5 -> 3 -> 7 -> 9\n"
     ]
    }
   ],
   "source": [
    "class Solution:\n",
    "    def removeDups(self, l1):\n",
    "        if l1 is None:\n",
    "            return None\n",
    "        current = l1.head\n",
    "        seen = set([current.value])\n",
    "        while current.next:\n",
    "            if current.next.value in seen:\n",
    "                current.next = current.next.next\n",
    "            else:\n",
    "                seen.add(current.next.value)\n",
    "                current = current.next\n",
    "        return l1\n",
    "\n",
    "    def removeDups2(self, l1):\n",
    "        if l1 is None:\n",
    "            return None\n",
    "        current = l1.head\n",
    "        while current:\n",
    "            runner = current\n",
    "            while runner.next:\n",
    "                if runner.next.value == current.value:\n",
    "                    runner.next = runner.next.next\n",
    "                else:\n",
    "                    runner = runner.next\n",
    "            current = current.next\n",
    "        return l1.head\n",
    "\n",
    "\n",
    "if __name__ == '__main__':\n",
    "    l1 = LinkedList()\n",
    "    l1.generate(100, 0, 9)\n",
    "    print(l1)\n",
    "    sol = Solution()\n",
    "    sol.removeDups2(l1)\n",
    "    print(l1)"
   ]
  },
  {
   "cell_type": "markdown",
   "metadata": {},
   "source": [
    "### 2.2\n",
    "Return Kth to Last: Implement an algorithm to find the kth to last element of a singly linked list."
   ]
  },
  {
   "cell_type": "code",
   "execution_count": 5,
   "metadata": {},
   "outputs": [
    {
     "name": "stdout",
     "output_type": "stream",
     "text": [
      "4 -> 5 -> 2 -> 9 -> 3 -> 2 -> 0 -> 8 -> 6 -> 5\n",
      "8\n"
     ]
    }
   ],
   "source": [
    "class Solution:\n",
    "    def kth_to_last(self, l1, k):\n",
    "        runner = current = l1.head\n",
    "        for _ in range(k):\n",
    "            if runner is None:\n",
    "                return None\n",
    "            else:\n",
    "                runner = runner.next\n",
    "        while runner:\n",
    "            current = current.next\n",
    "            runner = runner.next\n",
    "        return current\n",
    "\n",
    "\n",
    "if __name__ == '__main__':\n",
    "    l1 = LinkedList()\n",
    "    l1.generate(10, 0, 9)\n",
    "    print(l1)\n",
    "    sol = Solution()\n",
    "    print(sol.kth_to_last(l1, 3))\n"
   ]
  },
  {
   "cell_type": "markdown",
   "metadata": {},
   "source": [
    "### 2.3\n",
    "Delete Middle Node: Implement an algorithm to delete a node in the middle (i.e., any node but\n",
    "the first and last node, not necessarily the exact middle) of a singly linked list, given only access to\n",
    "that node.\n",
    "EXAMPLE\n",
    "Input: the node c from the linked list a - >b- >c - >d - >e- >f\n",
    "Result: nothing is returned, but the new linked list looks like a - >b- >d - >e- >f"
   ]
  },
  {
   "cell_type": "code",
   "execution_count": 6,
   "metadata": {},
   "outputs": [
    {
     "name": "stdout",
     "output_type": "stream",
     "text": [
      "1 -> 2 -> 3 -> 4 -> 5 -> 7 -> 8 -> 9\n",
      "1 -> 2 -> 3 -> 4 -> 7 -> 8 -> 9\n"
     ]
    }
   ],
   "source": [
    "class Solution:\n",
    "    def delete_middle_node(self,node):\n",
    "        node.value = node.next.value\n",
    "        node.next = node.next.next\n",
    "if __name__=='__main__':\n",
    "    ll = LinkedList()\n",
    "    ll.add_multiple([1, 2, 3, 4])\n",
    "    middle_node = ll.add(5)\n",
    "    ll.add_multiple([7, 8, 9])\n",
    "    print(ll)\n",
    "    sol = Solution()\n",
    "    sol.delete_middle_node(middle_node)\n",
    "    print(ll)"
   ]
  },
  {
   "cell_type": "markdown",
   "metadata": {},
   "source": [
    "### 2.4\n",
    "Partition: Write code to partition a linked list around a value x, such that all nodes less than x come\n",
    "before all nodes greater than or equal to x . lf x is contained within the list, the values of x only need\n",
    "to be after the elements less than x (see below) . The partition element x can appear anywhere in the\n",
    "\"right partition\"; it does not need to appear between the left and right partitions.\n",
    "\n",
    "EXAMPLE\n",
    "Input: 3 -> 5 -> 8 -> 5 - > 10 -> 2 -> 1 [partition = 5)\n",
    "\n",
    "Output: 3 -> 1 -> 2 -> 10 -> 5 -> 5 -> 8"
   ]
  },
  {
   "cell_type": "code",
   "execution_count": 7,
   "metadata": {},
   "outputs": [
    {
     "name": "stdout",
     "output_type": "stream",
     "text": [
      "69 -> 34 -> 88 -> 50 -> 78 -> 29 -> 27 -> 80 -> 60 -> 16\n",
      "16 -> 60 -> 27 -> 29 -> 50 -> 34 -> 69 -> 88 -> 78 -> 80\n"
     ]
    }
   ],
   "source": [
    "class Solution:\n",
    "    def partition(self,ll, x):\n",
    "        current = ll.tail = ll.head\n",
    "\n",
    "        while current:\n",
    "            nextNode = current.next\n",
    "            current.next = None\n",
    "            if current.value < x:\n",
    "                current.next = ll.head\n",
    "                ll.head = current\n",
    "            else:\n",
    "                ll.tail.next = current\n",
    "                ll.tail = current\n",
    "            current = nextNode\n",
    "        \n",
    "        # Error check in case all nodes are less than x\n",
    "        if ll.tail.next is not None:\n",
    "            ll.tail.next = None\n",
    "if __name__=='__main__':\n",
    "    ll = LinkedList()\n",
    "    ll.generate(10, 0, 99)\n",
    "    print(ll)\n",
    "    sol = Solution()\n",
    "    sol.partition(ll, ll.head.value)\n",
    "    print(ll)"
   ]
  },
  {
   "cell_type": "markdown",
   "metadata": {},
   "source": [
    "### 2.5\n",
    "Sum Lists: You have two numbers represented by a linked list, where each node contains a single\n",
    "digit. The digits are stored in reverse order, such that the 1 's digit is at the head of the list. Write a\n",
    "function that adds the two numbers and returns the sum as a linked list.\n",
    "\n",
    "EXAMPLE\n",
    "Input: (7-) 1 -) 6) + (5 -) 9 -) 2) .Thatis,617 + 295.\n",
    "Output: 2 -) 1 -) 9. That is, 912.\n",
    "\n",
    "FOLLOW UP\n",
    "Suppose the digits are stored in forward order. Repeat the above problem.\n",
    "\n",
    "EXAMPLE\n",
    "Input: (6 -) 1 -) 7) + (2 -) 9 -) 5) . Thatis,617 + 295 .\n",
    "Output: 9 -) 1 -) 2. That is, 912."
   ]
  },
  {
   "cell_type": "code",
   "execution_count": 8,
   "metadata": {},
   "outputs": [
    {
     "name": "stdout",
     "output_type": "stream",
     "text": [
      "6 -> 4 -> 3 -> 8\n",
      "4 -> 7 -> 9\n",
      "0 -> 2 -> 3 -> 9\n",
      "6 -> 9 -> 1 -> 7\n"
     ]
    }
   ],
   "source": [
    "class Solution:\n",
    "    def sum_lists(self, ll_a, ll_b):\n",
    "        ll = LinkedList()\n",
    "        n1, n2 = ll_a.head, ll_b.head\n",
    "        carry = 0\n",
    "        while n1 or n2:\n",
    "            result = carry\n",
    "            if n1:\n",
    "                result += n1.value\n",
    "                n1 = n1.next\n",
    "            if n2:\n",
    "                result += n2.value\n",
    "                n2 = n2.next\n",
    "            ll.add(result % 10)\n",
    "            carry = result // 10\n",
    "        if carry:\n",
    "            ll.add(carry)\n",
    "        return ll\n",
    "\n",
    "    def sum_lists_followup(self, ll_a, ll_b):\n",
    "        # Pad the shorter list with zeros\n",
    "        if len(ll_a) < len(ll_b):\n",
    "            for i in range(len(ll_b) - len(ll_a)):\n",
    "                ll_a.add_to_beginning(0)\n",
    "        else:\n",
    "            for i in range(len(ll_a) - len(ll_b)):\n",
    "                ll_b.add_to_beginning(0)\n",
    "\n",
    "        # Find sum\n",
    "        n1, n2 = ll_a.head, ll_b.head\n",
    "        result = 0\n",
    "        while n1 and n2:\n",
    "            result = (result * 10) + n1.value + n2.value\n",
    "            n1 = n1.next\n",
    "            n2 = n2.next\n",
    "\n",
    "        # Create new linked list\n",
    "        ll = LinkedList()\n",
    "        ll.add_multiple([int(i) for i in str(result)])\n",
    "\n",
    "        return ll\n",
    "\n",
    "\n",
    "if __name__ == '__main__':\n",
    "    ll_a = LinkedList()\n",
    "    ll_a.generate(4, 0, 9)\n",
    "    ll_b = LinkedList()\n",
    "    ll_b.generate(3, 0, 9)\n",
    "    print(ll_a)\n",
    "    print(ll_b)\n",
    "    sol = Solution()\n",
    "    print(sol.sum_lists(ll_a, ll_b))\n",
    "    print(sol.sum_lists_followup(ll_a, ll_b))\n"
   ]
  },
  {
   "cell_type": "markdown",
   "metadata": {},
   "source": [
    "### 2.6\n",
    "Palindrome: Implement a function to check if a linked list is a palindrome."
   ]
  },
  {
   "cell_type": "code",
   "execution_count": 9,
   "metadata": {},
   "outputs": [
    {
     "name": "stdout",
     "output_type": "stream",
     "text": [
      "True\n",
      "False\n"
     ]
    }
   ],
   "source": [
    "class Solution:\n",
    "    def isPalindrome(self, ll):\n",
    "        stack = []\n",
    "        slow = fast = ll.head\n",
    "        while fast and fast.next:\n",
    "            stack.append(slow.value)\n",
    "            slow = slow.next\n",
    "            fast = fast.next.next\n",
    "        if fast:\n",
    "            slow = slow.next\n",
    "        while slow:\n",
    "            top = stack.pop()\n",
    "            if top != slow.value:\n",
    "                return False\n",
    "            slow = slow.next\n",
    "        return True\n",
    "\n",
    "\n",
    "if __name__ == '__main__':\n",
    "    sol = Solution()\n",
    "    ll_true = LinkedList([1, 2, 3, 4, 5, 4, 3, 2, 1])\n",
    "    print(sol.isPalindrome(ll_true))\n",
    "    ll_false = LinkedList([1, 2, 3, 4, 5, 6, 7, 8, 9])\n",
    "    print(sol.isPalindrome(ll_false))"
   ]
  },
  {
   "cell_type": "code",
   "execution_count": null,
   "metadata": {
    "collapsed": true
   },
   "outputs": [],
   "source": []
  }
 ],
 "metadata": {
  "kernelspec": {
   "display_name": "Python 3",
   "language": "python",
   "name": "python3"
  },
  "language_info": {
   "codemirror_mode": {
    "name": "ipython",
    "version": 3
   },
   "file_extension": ".py",
   "mimetype": "text/x-python",
   "name": "python",
   "nbconvert_exporter": "python",
   "pygments_lexer": "ipython3",
   "version": "3.6.3"
  }
 },
 "nbformat": 4,
 "nbformat_minor": 2
}
