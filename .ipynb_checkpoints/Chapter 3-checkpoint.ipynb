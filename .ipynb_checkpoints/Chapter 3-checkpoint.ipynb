{
 "cells": [
  {
   "cell_type": "code",
   "execution_count": 6,
   "metadata": {},
   "outputs": [
    {
     "name": "stdout",
     "output_type": "stream",
     "text": [
      "[0, 0, 0, 0, 0, 0, 0, 0, 0, 0, 0, 0]\n",
      "[[0, 0, 0], [0, 0, 0], [0, 0, 0], [0, 0, 0], [0, 0, 0], [0, 0, 0]]\n"
     ]
    }
   ],
   "source": [
    "print([0]*(3*4))\n",
    "print([[0 for _ in range(3)] for _ in range(6)])"
   ]
  },
  {
   "cell_type": "markdown",
   "metadata": {},
   "source": [
    "### 3 in One Stack \n",
    "Describe how you could use a single array to implement three stacks."
   ]
  },
  {
   "cell_type": "code",
   "execution_count": 31,
   "metadata": {
    "collapsed": true
   },
   "outputs": [],
   "source": [
    "class MultiStack:\n",
    "    def __init__(self, stacksize):\n",
    "        self.numstacks = 3\n",
    "        self.array = [0] * (stacksize * self.numstacks)\n",
    "        self.sizes = [0] * self.numstacks\n",
    "        self.stacksize = stacksize\n",
    "\n",
    "    def Push(self, item, stacknum):\n",
    "        if self.IsFull(stacknum):\n",
    "            raise Exception('Stack is Full')\n",
    "        self.sizes[stacknum] += 1\n",
    "        self.array[self.IndexOfTop(stacknum)] = item\n",
    "\n",
    "    def Pop(self, stacknum):\n",
    "        if self.IsEmpty(stacknum):\n",
    "            raise Exception('Stack is Empty')\n",
    "        value = self.array[self.IndexOfTop(stacknum)]\n",
    "        self.array[self.IndexOfTop(stacknum)] = 0\n",
    "        self.sizes[stacknum] -= 1\n",
    "        return value\n",
    "\n",
    "    def Peek(self, stacknum):\n",
    "        if self.IsEmpty(stacknum):\n",
    "            raise Exception('Stack is Empty')\n",
    "        return self.array[self.IndexOfTop(stacknum)]\n",
    "\n",
    "    def IsEmpty(self, stacknum):\n",
    "        return self.sizes[stacknum] == 0\n",
    "\n",
    "    def IsFull(self, stacknum):\n",
    "        return self.sizes[stacknum] == self.stacksize\n",
    "\n",
    "    def IndexOfTop(self, stacknum):\n",
    "        offset = stacknum * self.stacksize\n",
    "        return offset + self.sizes[stacknum] - 1"
   ]
  },
  {
   "cell_type": "code",
   "execution_count": 32,
   "metadata": {},
   "outputs": [
    {
     "name": "stdout",
     "output_type": "stream",
     "text": [
      "True\n",
      "3\n",
      "False\n",
      "2\n",
      "2\n",
      "3\n"
     ]
    }
   ],
   "source": [
    "def ThreeInOne():\n",
    "    newstack = MultiStack(2)\n",
    "    print(newstack.IsEmpty(1))\n",
    "    newstack.Push(3, 1)\n",
    "    print(newstack.Peek(1))\n",
    "    print(newstack.IsEmpty(1))\n",
    "    newstack.Push(2, 1)\n",
    "    print(newstack.Peek(1))\n",
    "    print(newstack.Pop(1))\n",
    "    print(newstack.Peek(1))\n",
    "    newstack.Push(3, 1)\n",
    "\n",
    "ThreeInOne()"
   ]
  },
  {
   "cell_type": "markdown",
   "metadata": {},
   "source": [
    "###  Stack Min\n",
    "How would you design a stack which, in addition to push and pop, has a function min\n",
    "which returns the minimum element? Push, pop and min should all operate in 0(1) time."
   ]
  },
  {
   "cell_type": "code",
   "execution_count": 33,
   "metadata": {
    "collapsed": true
   },
   "outputs": [],
   "source": [
    "import sys\n",
    "\n",
    "\n",
    "class MultiStack:\n",
    "    def __init__(self, stacksize):\n",
    "        self.numstacks = 1\n",
    "        self.array = [0] * (stacksize * self.numstacks)\n",
    "        self.sizes = [0] * self.numstacks\n",
    "        self.stacksize = stacksize\n",
    "        self.minvals = [sys.maxsize] * (stacksize * self.numstacks)\n",
    "\n",
    "    def Push(self, item, stacknum):\n",
    "        if self.IsFull(stacknum):\n",
    "            raise Exception('Stack is Full')\n",
    "        self.sizes[stacknum] += 1\n",
    "        if self.IsEmpty(stacknum):\n",
    "            self.minvals[self.IndexOfTop(stacknum)] = item\n",
    "        else:\n",
    "            self.minvals[self.IndexOfTop(stacknum)] = min(item,\n",
    "                                                          self.minvals[self.minvals[self.IndexOfTop(stacknum) - 1]])\n",
    "        self.array[self.IndexOfTop(stacknum)] = item\n",
    "\n",
    "    def Pop(self, stacknum):\n",
    "        if self.IsEmpty(stacknum):\n",
    "            raise Exception('Stack is Empty')\n",
    "        value = self.array[self.IndexOfTop(stacknum)]\n",
    "        self.array[self.IndexOfTop(stacknum)] = 0\n",
    "        self.sizes[stacknum] -= 1\n",
    "        return value\n",
    "\n",
    "    def Peek(self, stacknum):\n",
    "        if self.IsEmpty(stacknum):\n",
    "            raise Exception('Stack is Empty')\n",
    "\n",
    "    def Min(self, stacknum):\n",
    "        return self.minvals[self.IndexOfTop(stacknum)]\n",
    "\n",
    "    def IsEmpty(self, stacknum):\n",
    "        return self.sizes[stacknum] == 0\n",
    "\n",
    "    def IsFull(self, stacknum):\n",
    "        return self.sizes[stacknum] == self.stacksize\n",
    "\n",
    "    def IndexOfTop(self, stacknum):\n",
    "        offset = stacknum * self.stacksize\n",
    "        return offset + self.sizes[stacknum] - 1\n"
   ]
  },
  {
   "cell_type": "code",
   "execution_count": 34,
   "metadata": {},
   "outputs": [
    {
     "ename": "IndexError",
     "evalue": "list index out of range",
     "output_type": "error",
     "traceback": [
      "\u001b[0;31m---------------------------------------------------------------------------\u001b[0m",
      "\u001b[0;31mIndexError\u001b[0m                                Traceback (most recent call last)",
      "\u001b[0;32m<ipython-input-34-65c6c693f45e>\u001b[0m in \u001b[0;36m<module>\u001b[0;34m()\u001b[0m\n\u001b[1;32m     14\u001b[0m     \u001b[0mprint\u001b[0m\u001b[0;34m(\u001b[0m\u001b[0mnewstack\u001b[0m\u001b[0;34m.\u001b[0m\u001b[0mMin\u001b[0m\u001b[0;34m(\u001b[0m\u001b[0;36m0\u001b[0m\u001b[0;34m)\u001b[0m\u001b[0;34m)\u001b[0m\u001b[0;34m\u001b[0m\u001b[0m\n\u001b[1;32m     15\u001b[0m \u001b[0;34m\u001b[0m\u001b[0m\n\u001b[0;32m---> 16\u001b[0;31m \u001b[0mStackMin\u001b[0m\u001b[0;34m(\u001b[0m\u001b[0;34m)\u001b[0m\u001b[0;34m\u001b[0m\u001b[0m\n\u001b[0m",
      "\u001b[0;32m<ipython-input-34-65c6c693f45e>\u001b[0m in \u001b[0;36mStackMin\u001b[0;34m()\u001b[0m\n\u001b[1;32m      1\u001b[0m \u001b[0;32mdef\u001b[0m \u001b[0mStackMin\u001b[0m\u001b[0;34m(\u001b[0m\u001b[0;34m)\u001b[0m\u001b[0;34m:\u001b[0m\u001b[0;34m\u001b[0m\u001b[0m\n\u001b[1;32m      2\u001b[0m     \u001b[0mnewstack\u001b[0m \u001b[0;34m=\u001b[0m \u001b[0mMultiStack\u001b[0m\u001b[0;34m(\u001b[0m\u001b[0;36m10\u001b[0m\u001b[0;34m)\u001b[0m\u001b[0;34m\u001b[0m\u001b[0m\n\u001b[0;32m----> 3\u001b[0;31m     \u001b[0mnewstack\u001b[0m\u001b[0;34m.\u001b[0m\u001b[0mPush\u001b[0m\u001b[0;34m(\u001b[0m\u001b[0;36m5\u001b[0m\u001b[0;34m,\u001b[0m \u001b[0;36m0\u001b[0m\u001b[0;34m)\u001b[0m\u001b[0;34m\u001b[0m\u001b[0m\n\u001b[0m\u001b[1;32m      4\u001b[0m     \u001b[0mnewstack\u001b[0m\u001b[0;34m.\u001b[0m\u001b[0mPush\u001b[0m\u001b[0;34m(\u001b[0m\u001b[0;36m6\u001b[0m\u001b[0;34m,\u001b[0m \u001b[0;36m0\u001b[0m\u001b[0;34m)\u001b[0m\u001b[0;34m\u001b[0m\u001b[0m\n\u001b[1;32m      5\u001b[0m     \u001b[0mnewstack\u001b[0m\u001b[0;34m.\u001b[0m\u001b[0mPush\u001b[0m\u001b[0;34m(\u001b[0m\u001b[0;36m2\u001b[0m\u001b[0;34m,\u001b[0m \u001b[0;36m0\u001b[0m\u001b[0;34m)\u001b[0m\u001b[0;34m\u001b[0m\u001b[0m\n",
      "\u001b[0;32m<ipython-input-33-c3f8ba8f0195>\u001b[0m in \u001b[0;36mPush\u001b[0;34m(self, item, stacknum)\u001b[0m\n\u001b[1;32m     18\u001b[0m         \u001b[0;32melse\u001b[0m\u001b[0;34m:\u001b[0m\u001b[0;34m\u001b[0m\u001b[0m\n\u001b[1;32m     19\u001b[0m             self.minvals[self.IndexOfTop(stacknum)] = min(item,\n\u001b[0;32m---> 20\u001b[0;31m                                                           self.minvals[self.minvals[self.IndexOfTop(stacknum) - 1]])\n\u001b[0m\u001b[1;32m     21\u001b[0m         \u001b[0mself\u001b[0m\u001b[0;34m.\u001b[0m\u001b[0marray\u001b[0m\u001b[0;34m[\u001b[0m\u001b[0mself\u001b[0m\u001b[0;34m.\u001b[0m\u001b[0mIndexOfTop\u001b[0m\u001b[0;34m(\u001b[0m\u001b[0mstacknum\u001b[0m\u001b[0;34m)\u001b[0m\u001b[0;34m]\u001b[0m \u001b[0;34m=\u001b[0m \u001b[0mitem\u001b[0m\u001b[0;34m\u001b[0m\u001b[0m\n\u001b[1;32m     22\u001b[0m \u001b[0;34m\u001b[0m\u001b[0m\n",
      "\u001b[0;31mIndexError\u001b[0m: list index out of range"
     ]
    }
   ],
   "source": [
    "def StackMin():\n",
    "    newstack = MultiStack(10)\n",
    "    newstack.Push(5, 0)\n",
    "    newstack.Push(6, 0)\n",
    "    newstack.Push(2, 0)\n",
    "    newstack.Push(7, 0)\n",
    "    newstack.Push(14, 0)\n",
    "    newstack.Push(3, 0)\n",
    "    print(newstack.Min(0))\n",
    "    newstack.Push(1, 0)\n",
    "    newstack.Push(4, 0)\n",
    "    newstack.Push(44, 0)\n",
    "    newstack.Push(2, 0)\n",
    "    print(newstack.Min(0))\n",
    "\n",
    "StackMin()\n"
   ]
  }
 ],
 "metadata": {
  "kernelspec": {
   "display_name": "Python 3",
   "language": "python",
   "name": "python3"
  },
  "language_info": {
   "codemirror_mode": {
    "name": "ipython",
    "version": 3
   },
   "file_extension": ".py",
   "mimetype": "text/x-python",
   "name": "python",
   "nbconvert_exporter": "python",
   "pygments_lexer": "ipython3",
   "version": "3.6.3"
  }
 },
 "nbformat": 4,
 "nbformat_minor": 2
}
