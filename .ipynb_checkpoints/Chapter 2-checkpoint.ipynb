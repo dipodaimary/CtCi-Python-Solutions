{
 "cells": [
  {
   "cell_type": "markdown",
   "metadata": {
    "collapsed": true
   },
   "source": [
    "### Linked List Class"
   ]
  },
  {
   "cell_type": "code",
   "execution_count": 10,
   "metadata": {
    "collapsed": true
   },
   "outputs": [],
   "source": [
    "from random import randint\n",
    "\n",
    "\n",
    "class LinkedListNode:\n",
    "\n",
    "    def __init__(self, value, nextNode=None, prevNode=None):\n",
    "        self.value = value\n",
    "        self.next = nextNode\n",
    "        self.prev = prevNode\n",
    "\n",
    "    def __str__(self):\n",
    "        return str(self.value)\n",
    "\n",
    "\n",
    "class LinkedList:\n",
    "\n",
    "    def __init__(self, values=None):\n",
    "        self.head = None\n",
    "        self.tail = None\n",
    "        if values is not None:\n",
    "            self.add_multiple(values)\n",
    "\n",
    "    def __iter__(self):\n",
    "        current = self.head\n",
    "        while current:\n",
    "            yield current\n",
    "            current = current.next\n",
    "\n",
    "    def __str__(self):\n",
    "        values = [str(x) for x in self]\n",
    "        return ' -> '.join(values)\n",
    "\n",
    "    def __len__(self):\n",
    "        result = 0\n",
    "        node = self.head\n",
    "        while node:\n",
    "            result += 1\n",
    "            node = node.next\n",
    "        return result\n",
    "\n",
    "    def add(self, value):\n",
    "        if self.head is None:\n",
    "            self.tail = self.head = LinkedListNode(value)\n",
    "        else:\n",
    "            self.tail.next = LinkedListNode(value)\n",
    "            self.tail = self.tail.next\n",
    "        return self.tail\n",
    "\n",
    "    def add_to_beginning(self, value):\n",
    "        if self.head is None:\n",
    "            self.tail = self.head = LinkedListNode(value)\n",
    "        else:\n",
    "            self.head = LinkedListNode(value, self.head)\n",
    "        return self.head\n",
    "\n",
    "    def add_multiple(self, values):\n",
    "        for v in values:\n",
    "            self.add(v)\n",
    "\n",
    "    def generate(self, n, min_value, max_value):\n",
    "        self.head = self.tail = None\n",
    "        for i in range(n):\n",
    "            self.add(randint(min_value, max_value))\n",
    "        return self\n",
    "\n",
    "\n",
    "class DoublyLinkedList(LinkedList):\n",
    "\n",
    "    def add(self, value):\n",
    "        if self.head is None:\n",
    "            self.tail = self.head = LinkedListNode(value, None, self.tail)\n",
    "        else:\n",
    "            self.tail.next = LinkedListNode(value)\n",
    "            self.tail = self.tail.next\n",
    "        return self"
   ]
  },
  {
   "cell_type": "markdown",
   "metadata": {},
   "source": [
    "### 2.1\n",
    "Remove Dups: Write code to remove duplicates from an unsorted li nked list.\n",
    "FOLLOW UP\n",
    "How would you solve this problem if a temporary buffer is not allowed?"
   ]
  },
  {
   "cell_type": "code",
   "execution_count": 13,
   "metadata": {},
   "outputs": [
    {
     "name": "stdout",
     "output_type": "stream",
     "text": [
      "9 -> 2 -> 7 -> 3 -> 1 -> 4 -> 3 -> 0 -> 6 -> 8 -> 5 -> 1 -> 7 -> 0 -> 8 -> 0 -> 1 -> 8 -> 4 -> 7 -> 1 -> 3 -> 7 -> 1 -> 5 -> 7 -> 6 -> 0 -> 8 -> 2 -> 1 -> 5 -> 9 -> 6 -> 6 -> 7 -> 9 -> 7 -> 2 -> 2 -> 3 -> 3 -> 6 -> 0 -> 4 -> 0 -> 3 -> 6 -> 3 -> 1 -> 1 -> 4 -> 6 -> 3 -> 8 -> 6 -> 3 -> 7 -> 0 -> 8 -> 6 -> 3 -> 5 -> 0 -> 0 -> 1 -> 2 -> 7 -> 2 -> 8 -> 0 -> 4 -> 3 -> 6 -> 6 -> 6 -> 7 -> 3 -> 1 -> 3 -> 1 -> 9 -> 9 -> 1 -> 7 -> 8 -> 2 -> 5 -> 4 -> 1 -> 2 -> 1 -> 8 -> 1 -> 0 -> 0 -> 1 -> 5 -> 9 -> 8\n",
      "9 -> 2 -> 7 -> 3 -> 1 -> 4 -> 0 -> 6 -> 8 -> 5\n"
     ]
    }
   ],
   "source": [
    "class Solution:\n",
    "    def removeDups(self, l1):\n",
    "        if l1 is None:\n",
    "            return None\n",
    "        current = l1.head\n",
    "        seen = set([current.value])\n",
    "        while current.next:\n",
    "            if current.next.value in seen:\n",
    "                current.next = current.next.next\n",
    "            else:\n",
    "                seen.add(current.next.value)\n",
    "                current = current.next\n",
    "        return l1\n",
    "\n",
    "    def removeDups2(self, l1):\n",
    "        if l1 is None:\n",
    "            return None\n",
    "        current = l1.head\n",
    "        while current:\n",
    "            runner = current\n",
    "            while runner.next:\n",
    "                if runner.next.value == current.value:\n",
    "                    runner.next = runner.next.next\n",
    "                else:\n",
    "                    runner = runner.next\n",
    "            current = current.next\n",
    "        return l1.head\n",
    "\n",
    "\n",
    "if __name__ == '__main__':\n",
    "    l1 = LinkedList()\n",
    "    l1.generate(100, 0, 9)\n",
    "    print(l1)\n",
    "    sol = Solution()\n",
    "    sol.removeDups2(l1)\n",
    "    print(l1)"
   ]
  },
  {
   "cell_type": "markdown",
   "metadata": {},
   "source": [
    "### 2.2\n",
    "Return Kth to Last: Implement an algorithm to find the kth to last element of a singly linked list."
   ]
  },
  {
   "cell_type": "code",
   "execution_count": 14,
   "metadata": {},
   "outputs": [
    {
     "name": "stdout",
     "output_type": "stream",
     "text": [
      "7 -> 6 -> 8 -> 8 -> 0 -> 2 -> 1 -> 5 -> 0 -> 8\n",
      "5\n"
     ]
    }
   ],
   "source": [
    "class Solution:\n",
    "    def kth_to_last(self, l1, k):\n",
    "        runner = current = l1.head\n",
    "        for _ in range(k):\n",
    "            if runner is None:\n",
    "                return None\n",
    "            else:\n",
    "                runner = runner.next\n",
    "        while runner:\n",
    "            current = current.next\n",
    "            runner = runner.next\n",
    "        return current\n",
    "\n",
    "\n",
    "if __name__ == '__main__':\n",
    "    l1 = LinkedList()\n",
    "    l1.generate(10, 0, 9)\n",
    "    print(l1)\n",
    "    sol = Solution()\n",
    "    print(sol.kth_to_last(l1, 3))\n"
   ]
  },
  {
   "cell_type": "markdown",
   "metadata": {},
   "source": [
    "### 2.3\n",
    "Delete Middle Node: Implement an algorithm to delete a node in the middle (i.e., any node but\n",
    "the first and last node, not necessarily the exact middle) of a singly linked list, given only access to\n",
    "that node.\n",
    "EXAMPLE\n",
    "Input: the node c from the linked list a - >b- >c - >d - >e- >f\n",
    "Result: nothing is returned, but the new linked list looks like a - >b- >d - >e- >f"
   ]
  },
  {
   "cell_type": "code",
   "execution_count": 16,
   "metadata": {},
   "outputs": [
    {
     "name": "stdout",
     "output_type": "stream",
     "text": [
      "1 -> 2 -> 3 -> 4 -> 5 -> 7 -> 8 -> 9\n",
      "1 -> 2 -> 3 -> 4 -> 7 -> 8 -> 9\n"
     ]
    }
   ],
   "source": [
    "class Solution:\n",
    "    def delete_middle_node(self,node):\n",
    "        node.value = node.next.value\n",
    "        node.next = node.next.next\n",
    "if __name__=='__main__':\n",
    "    ll = LinkedList()\n",
    "    ll.add_multiple([1, 2, 3, 4])\n",
    "    middle_node = ll.add(5)\n",
    "    ll.add_multiple([7, 8, 9])\n",
    "    print(ll)\n",
    "    sol = Solution()\n",
    "    sol.delete_middle_node(middle_node)\n",
    "    print(ll)"
   ]
  },
  {
   "cell_type": "markdown",
   "metadata": {},
   "source": [
    "### 2.4\n",
    "Partition: Write code to partition a linked list around a value x, such that all nodes less than x come\n",
    "before all nodes greater than or equal to x . lf x is contained within the list, the values of x only need\n",
    "to be after the elements less than x (see below) . The partition element x can appear anywhere in the\n",
    "\"right partition\"; it does not need to appear between the left and right partitions.\n",
    "\n",
    "EXAMPLE\n",
    "Input: 3 -> 5 -> 8 -> 5 - > 10 -> 2 -> 1 [partition = 5)\n",
    "\n",
    "Output: 3 -> 1 -> 2 -> 10 -> 5 -> 5 -> 8"
   ]
  },
  {
   "cell_type": "code",
   "execution_count": 20,
   "metadata": {},
   "outputs": [
    {
     "name": "stdout",
     "output_type": "stream",
     "text": [
      "22 -> 35 -> 98 -> 1 -> 78 -> 4 -> 99 -> 91 -> 30 -> 55\n",
      "4 -> 1 -> 22 -> 35 -> 98 -> 78 -> 99 -> 91 -> 30 -> 55\n"
     ]
    }
   ],
   "source": [
    "class Solution:\n",
    "    def partition(self,ll, x):\n",
    "        current = ll.tail = ll.head\n",
    "\n",
    "        while current:\n",
    "            nextNode = current.next\n",
    "            current.next = None\n",
    "            if current.value < x:\n",
    "                current.next = ll.head\n",
    "                ll.head = current\n",
    "            else:\n",
    "                ll.tail.next = current\n",
    "                ll.tail = current\n",
    "            current = nextNode\n",
    "        \n",
    "        # Error check in case all nodes are less than x\n",
    "        if ll.tail.next is not None:\n",
    "            ll.tail.next = None\n",
    "if __name__=='__main__':\n",
    "    ll = LinkedList()\n",
    "    ll.generate(10, 0, 99)\n",
    "    print(ll)\n",
    "    sol = Solution()\n",
    "    sol.partition(ll, ll.head.value)\n",
    "    print(ll)"
   ]
  }
 ],
 "metadata": {
  "kernelspec": {
   "display_name": "Python 3",
   "language": "python",
   "name": "python3"
  },
  "language_info": {
   "codemirror_mode": {
    "name": "ipython",
    "version": 3
   },
   "file_extension": ".py",
   "mimetype": "text/x-python",
   "name": "python",
   "nbconvert_exporter": "python",
   "pygments_lexer": "ipython3",
   "version": "3.6.3"
  }
 },
 "nbformat": 4,
 "nbformat_minor": 2
}
