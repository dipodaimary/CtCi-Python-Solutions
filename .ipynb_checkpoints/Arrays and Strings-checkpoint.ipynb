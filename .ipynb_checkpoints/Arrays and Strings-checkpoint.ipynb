{
 "cells": [
  {
   "cell_type": "markdown",
   "metadata": {},
   "source": [
    "#### 1. Implement an algorithm to determine if a string has all unique characters. What if you can not use additional data structures?"
   ]
  },
  {
   "cell_type": "code",
   "execution_count": 10,
   "metadata": {},
   "outputs": [
    {
     "name": "stdout",
     "output_type": "stream",
     "text": [
      "yes\n"
     ]
    }
   ],
   "source": [
    "def unique(s):\n",
    "    return len(set(s)) == len(s)\n",
    "\n",
    "def unique2(s):\n",
    "    uchars = set()\n",
    "    for c in s:\n",
    "        if c in uchars:\n",
    "            return False\n",
    "        else:\n",
    "            uchars.add(c)\n",
    "    return True\n",
    "\n",
    "if __name__ == \"__main__\":\n",
    "    if(unique2(\"Dipo\")):\n",
    "        print(\"yes\")\n",
    "    else:\n",
    "        print(\"no\")"
   ]
  },
  {
   "cell_type": "markdown",
   "metadata": {},
   "source": [
    "#### 2. Write code to reverse a C-Style String. (C-String means that “abcd” is represented as five characters, including the null character.) "
   ]
  },
  {
   "cell_type": "code",
   "execution_count": 13,
   "metadata": {},
   "outputs": [
    {
     "name": "stdout",
     "output_type": "stream",
     "text": [
      "yramiaD opiD\n"
     ]
    }
   ],
   "source": [
    "def rev_cstring(s):\n",
    "    rev = \"\"\n",
    "    for c in s:\n",
    "        rev = c + rev\n",
    "    return rev\n",
    "\n",
    "if __name__ == '__main__':\n",
    "    s = \"Dipo Daimary\"\n",
    "    print(rev_cstring(s))"
   ]
  },
  {
   "cell_type": "markdown",
   "metadata": {},
   "source": [
    "#### 3. Design an algorithm and write code to remove the duplicate characters in a string without using any additional buffer. NOTE: One or two additional variables are fine. An extra copy of the array is not."
   ]
  },
  {
   "cell_type": "code",
   "execution_count": 63,
   "metadata": {},
   "outputs": [
    {
     "name": "stdout",
     "output_type": "stream",
     "text": [
      "Dipo amryITGuwht\n"
     ]
    }
   ],
   "source": [
    "def rem_dup_char(s):\n",
    "    return ''.join(j for i,j in enumerate(s) if j not in s[:i])\n",
    "if __name__=='__main__':\n",
    "    print(rem_dup_char(\"Dipo Daimary IIT Guwahati\"))"
   ]
  },
  {
   "cell_type": "markdown",
   "metadata": {},
   "source": [
    "#### 4.Write a method to decide if two strings are anagrams or not."
   ]
  },
  {
   "cell_type": "code",
   "execution_count": 72,
   "metadata": {},
   "outputs": [
    {
     "name": "stdout",
     "output_type": "stream",
     "text": [
      "True\n"
     ]
    }
   ],
   "source": [
    "def decide_anagram(s1,s2):\n",
    "    return(set(s1.lower().replace(\" \",\"\"))==set(s2.lower().replace(\" \",\"\")))\n",
    "\n",
    "if __name__=='__main__':\n",
    "    print(decide_anagram(\"dipo\",\"opidd\"))"
   ]
  },
  {
   "cell_type": "markdown",
   "metadata": {},
   "source": [
    "#### 5.  Write a method to replace all spaces in a string with '%20'"
   ]
  },
  {
   "cell_type": "code",
   "execution_count": 74,
   "metadata": {},
   "outputs": [
    {
     "name": "stdout",
     "output_type": "stream",
     "text": [
      "dipo%20daimary.com\n"
     ]
    }
   ],
   "source": [
    "def urlify(s):\n",
    "    return s.replace(' ','%20')\n",
    "if __name__=='__main__':\n",
    "    print(urlify(\"dipo daimary.com\"))"
   ]
  },
  {
   "cell_type": "markdown",
   "metadata": {},
   "source": [
    "#### 6. Given an image represented by an NxN matrix, where each pixel in the image is 4bytes, write a method to rotate the image by 90 degrees. Can you do this in place?"
   ]
  },
  {
   "cell_type": "code",
   "execution_count": 92,
   "metadata": {},
   "outputs": [
    {
     "name": "stdout",
     "output_type": "stream",
     "text": [
      "M by N matrix has dimensions 4 by 4\n",
      "Visual representation of contents:\n",
      "[ 1  2  3  4 ]\n",
      "[ 5  6  7  8 ]\n",
      "[ 9  10  11  12 ]\n",
      "[ 13  14  15  16 ]\n",
      "\n",
      "Visual representation of contents after rotating 90 degrees clockwise:\n",
      "[ 13  9  5  1 ]\n",
      "[ 14  10  6  2 ]\n",
      "[ 15  11  7  3 ]\n",
      "[ 16  12  8  4 ]\n",
      "\n"
     ]
    }
   ],
   "source": [
    "class matrix_processor:\n",
    "    def __init__(self,matrix):\n",
    "        self.n = len(matrix)\n",
    "        self.m = len(matrix[0])\n",
    "        self.matrix = matrix\n",
    "    def __str__(self):\n",
    "        return ''.join(\"%s%s%s\" % (\"[\", ''.join(\"%s%s%s\" % (\" \", str(cell), \" \")\n",
    "                                                for cell in row), \"]\\n\") for row in self.matrix)\n",
    "    def rotate90CW(self):\n",
    "        # strategy is to make what are now rows into columns, and reverse the order,\n",
    "        # which mimics the effect of rotation on the matrix.\n",
    "        # This creates our empty list of columns by the length of the original matrix\n",
    "        columnlist = [[] for i in range(len(self.matrix))]\n",
    "        # Now this iterates through the rows and columns and appends those to the new columnlist\n",
    "        [[columnlist[i].append(row[i]) for i in range(len(row))] for row in self.matrix]\n",
    "        # reverses the new column list to get the order that is wanted, and assigned back to the original matrix\n",
    "        self.matrix = [reversed(col) for col in columnlist]\n",
    "        \n",
    "if __name__=='__main__':\n",
    "    mat1= matrix_processor([[1,2,3,4],[5,6,7,8],[9,10,11,12],[13,14,15,16]])\n",
    "\n",
    "    print(\"M by N matrix has dimensions \" + str(mat1.m) + \" by \" + str(mat1.n))\n",
    "\n",
    "    print(\"Visual representation of contents:\")\n",
    "    print(str(mat1))                  \n",
    "\n",
    "\n",
    "    mat1.rotate90CW()\n",
    "\n",
    "    print(\"Visual representation of contents after rotating 90 degrees clockwise:\")\n",
    "    print(str(mat1))"
   ]
  },
  {
   "cell_type": "markdown",
   "metadata": {},
   "source": [
    "#### 7. Write an algorithm such that if an element in an MxN matrix is 0, its entire row and column is set to 0 "
   ]
  },
  {
   "cell_type": "code",
   "execution_count": 93,
   "metadata": {},
   "outputs": [
    {
     "name": "stdout",
     "output_type": "stream",
     "text": [
      "M by N matrix has dimensions 3 by 4\n",
      "Visual representation of contents:\n",
      "[ 1  2  3 ]\n",
      "[ 4  5  0 ]\n",
      "[ 7  8  9 ]\n",
      "[ 0  11  12 ]\n",
      "\n",
      "Visual representation of contents after zeroing all rows/columns containing a zero:\n",
      "[ 0  2  0 ]\n",
      "[ 0  0  0 ]\n",
      "[ 0  8  0 ]\n",
      "[ 0  0  0 ]\n",
      "\n"
     ]
    }
   ],
   "source": [
    "class matrix_processor:\n",
    "    def __init__(self, matrix):\n",
    "        self.n = len(matrix)\n",
    "        self.m = len(matrix[0])\n",
    "        self.matrix = matrix\n",
    "        \n",
    "    def __str__(self):\n",
    "        rowstring = \"\"\n",
    "        for row in self.matrix:\n",
    "            rowstring  = rowstring + \"[\"\n",
    "            for cell in row:\n",
    "                rowstring = rowstring + \" \" + str(cell) + \" \"\n",
    "            rowstring = rowstring + \"]\\n\"\n",
    "        return rowstring\n",
    "    def zeroProcess(self):\n",
    "        columnstozero = []\n",
    "        rowstozero = []\n",
    "        for rowcount, row in enumerate(self.matrix):\n",
    "            for cellcount, cell in enumerate(row):\n",
    "                if(cell == 0):\n",
    "                    columnstozero.append(cellcount)\n",
    "                    rowstozero.append(rowcount)\n",
    "        for rownum in rowstozero:\n",
    "            self.zeroRow(rownum)\n",
    "        for column in columnstozero:\n",
    "            self.zeroColumn(column)\n",
    "    def zeroRow(self,rownum):\n",
    "        newrow = []\n",
    "        for x in range(0,self.m):\n",
    "            newrow.append(0)\n",
    "        self.matrix[rownum]=newrow\n",
    "    def zeroColumn(self, colnum):\n",
    "        for row in self.matrix:\n",
    "            row[colnum]=0\n",
    "\n",
    "            \n",
    "if __name__=='__main__':\n",
    "    mat1= matrix_processor([[1,2,3],[4,5,0],[7,8,9],[0,11,12]])\n",
    "    print(\"M by N matrix has dimensions \" + str(mat1.m) + \" by \" + str(mat1.n))\n",
    "\n",
    "    print(\"Visual representation of contents:\")\n",
    "    print(str(mat1))                 \n",
    "\n",
    "\n",
    "    mat1.zeroProcess()\n",
    "\n",
    "    print(\"Visual representation of contents after zeroing all rows/columns containing a zero:\")\n",
    "    print(str(mat1))\n",
    "        "
   ]
  },
  {
   "cell_type": "markdown",
   "metadata": {},
   "source": [
    "#### Assume you have a method isSubstring which checks if one word is a substring of another. Given two strings, s1 and s2, write code to check if s2 is a rotation of s1 using only one call to isSubstring (i.e., “waterbottle” is a rotation of “erbottlewat”)"
   ]
  },
  {
   "cell_type": "code",
   "execution_count": 95,
   "metadata": {},
   "outputs": [
    {
     "name": "stdout",
     "output_type": "stream",
     "text": [
      "Test 1 Passed\n",
      "Test 2 Passed\n",
      "Test 3 Passed\n"
     ]
    }
   ],
   "source": [
    "#Assume you have a method isSubstring which checks if one word is a\n",
    "#substring of another. Given two strings, s1 and s2, write code to check if s2 is\n",
    "#a rotation of s1 using only one call to isSubstring (e.g.,\"waterbottle\" is a rotation of \"erbottlewat\").\n",
    "\n",
    "def isSubstring(s1,s2):\n",
    "    return s1.find(s2) > -1\n",
    "\n",
    "def rotatedStringHasSubstring(s1,s2):\n",
    "    #doubling the string ensures a complete substring regardless of rotation\n",
    "    if len(s2)!=len(s1):\n",
    "        return False\n",
    "    doubles1 = s1 + s1\n",
    "    return isSubstring(doubles1,s2)\n",
    "\n",
    "\n",
    "\n",
    "#testing\n",
    "if rotatedStringHasSubstring(\"waterbottle\",\"erbottlewat\"):\n",
    "    print(\"Test 1 Passed\")\n",
    "\n",
    "if not rotatedStringHasSubstring(\"waterbottle\",\"nope\"):\n",
    "    print(\"Test 2 Passed\")\n",
    "\n",
    "if not rotatedStringHasSubstring(\"waterbottlewater\",\"waterbottle\"):\n",
    "    print(\"Test 3 Passed\")"
   ]
  }
 ],
 "metadata": {
  "kernelspec": {
   "display_name": "Python 3",
   "language": "python",
   "name": "python3"
  },
  "language_info": {
   "codemirror_mode": {
    "name": "ipython",
    "version": 3
   },
   "file_extension": ".py",
   "mimetype": "text/x-python",
   "name": "python",
   "nbconvert_exporter": "python",
   "pygments_lexer": "ipython3",
   "version": "3.6.3"
  }
 },
 "nbformat": 4,
 "nbformat_minor": 2
}
