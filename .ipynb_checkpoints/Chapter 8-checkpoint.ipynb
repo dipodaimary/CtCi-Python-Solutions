{
 "cells": [
  {
   "cell_type": "markdown",
   "metadata": {},
   "source": [
    "### 8.1\n",
    "Triple Step: A child is running up a staircase with n steps and can hop either 1 step, 2 steps, or 3\n",
    "steps at a time. Implement a method to count how many possible ways the child can run up the\n",
    "stairs."
   ]
  },
  {
   "cell_type": "code",
   "execution_count": 3,
   "metadata": {
    "scrolled": false
   },
   "outputs": [
    {
     "name": "stdout",
     "output_type": "stream",
     "text": [
      "274\n",
      "274\n"
     ]
    }
   ],
   "source": [
    "class Solution:\n",
    "    def TripleHop(self, x):\n",
    "        if x < 0:\n",
    "            return 0\n",
    "        if x == 0:\n",
    "            return 1\n",
    "        if x == 1:\n",
    "            return 1\n",
    "        return self.TripleHop(x - 1) + self.TripleHop(x - 2) + self.TripleHop(x - 3)\n",
    "\n",
    "    def TripleHopRecursive(self, x, memo):\n",
    "        if x < 0:\n",
    "            return 0\n",
    "        memo[0] = 1\n",
    "        if x >= 1:\n",
    "            memo[1] = 1\n",
    "        if x >= 2:\n",
    "            memo[2] = memo[1] + memo[0]\n",
    "        if x > 2:\n",
    "            for i in range(3, x + 1):\n",
    "                memo[i] = memo[i - 1] + memo[i - 2] + memo[i - 3]\n",
    "        return memo[x]\n",
    "\n",
    "    def Method2(self, x):\n",
    "        memo = [-1] * (x + 1)\n",
    "        return self.TripleHopRecursive(x, memo)\n",
    "\n",
    "\n",
    "if __name__ == '__main__':\n",
    "    sol = Solution()\n",
    "    print(sol.TripleHop(10))\n",
    "    print(sol.Method2(10))"
   ]
  },
  {
   "cell_type": "markdown",
   "metadata": {},
   "source": [
    "### 8.2\n",
    "Robot in a Grid: Imagine a robot sitting on the upper left corner of grid with r rows and c columns.\n",
    "The robot can only move in two directions, right and down, but certain cells are \"off limits\" such that\n",
    "the robot cannot step on them. Design an algorithm to find a path for the robot from the top left to\n",
    "the bottom right."
   ]
  },
  {
   "cell_type": "code",
   "execution_count": 6,
   "metadata": {},
   "outputs": [
    {
     "name": "stdout",
     "output_type": "stream",
     "text": [
      "[(0, 0), (1, 0), (1, 1)]\n",
      "[(0, 0), (0, 1), (1, 1)]\n",
      "[(0, 0), (1, 0), (1, 1)]\n",
      "[(0, 0), (0, 1), (1, 1)]\n"
     ]
    }
   ],
   "source": [
    "class Solution:\n",
    "    def getPath(self, maze):\n",
    "        if maze == None or len(maze) == 0:\n",
    "            return None\n",
    "        path = []\n",
    "        if self.isPath(maze, len(maze) - 1, len(maze[0]) - 1, path):\n",
    "            return path\n",
    "        return None\n",
    "\n",
    "    def isPath(self, maze, row, col, path):\n",
    "        if col < 0 or row < 0 or not maze[row][col]:\n",
    "            return False\n",
    "        isAtOrigin = (row == 0) and (col == 0)\n",
    "\n",
    "        if isAtOrigin or self.isPath(maze, row, col - 1, path) or self.isPath(maze, row - 1, col, path):\n",
    "            point = (row, col)\n",
    "            path.append(point)\n",
    "            return True\n",
    "        return False\n",
    "\n",
    "\n",
    "class Solution2:\n",
    "    def getPathMemoized(self, maze):\n",
    "        if maze == None or len(maze) == 0:\n",
    "            return None\n",
    "        path = []\n",
    "        failedPoints = []\n",
    "        if self.isPathMemoized(maze, len(maze) - 1, len(maze[0]) - 1, path, failedPoints):\n",
    "            return path\n",
    "        return None\n",
    "\n",
    "    def isPathMemoized(self, maze, row, col, path, failedPoints):\n",
    "        if col < 0 or row < 0 or not maze[row][col]:\n",
    "            return False\n",
    "        point = (row, col)\n",
    "        if point in failedPoints:\n",
    "            return False\n",
    "        isAtOrigin = (row == 0) and (col == 0)\n",
    "        if isAtOrigin or self.isPathMemoized(maze, row, col - 1, path, failedPoints) or self.isPathMemoized(maze,\n",
    "                                                                                                            row - 1,\n",
    "                                                                                                            col, path,\n",
    "                                                                                                            failedPoints):\n",
    "            path.append(point)\n",
    "            return True\n",
    "\n",
    "\n",
    "if __name__ == '__main__':\n",
    "    sol = Solution()\n",
    "    sol2 = Solution2()\n",
    "    print(sol.getPath([[True, True], [True, True]]))\n",
    "    print(sol.getPath([[True, True], [False, True]]))\n",
    "    print(sol2.getPathMemoized([[True, True], [True, True]]))\n",
    "    print(sol2.getPathMemoized([[True, True], [False, True]]))\n"
   ]
  },
  {
   "cell_type": "markdown",
   "metadata": {},
   "source": [
    "### 8.3 Magic Index:\n",
    "A magic index in an array A [0 ... n -1] is defined to be an index such that A[ i] =\n",
    "i. Given a sorted array of distinct integers, write a method to find a magic index, if one exists, in\n",
    "array A."
   ]
  },
  {
   "cell_type": "code",
   "execution_count": 13,
   "metadata": {},
   "outputs": [
    {
     "name": "stdout",
     "output_type": "stream",
     "text": [
      "9\n"
     ]
    }
   ],
   "source": [
    "class Solution:\n",
    "    def MagicIndex(self, array, min, max):\n",
    "        mid = int((max + min) / 2)\n",
    "        if min > max:\n",
    "            return None\n",
    "        if array[mid] == mid:\n",
    "            return mid\n",
    "        if array[mid] < mid:\n",
    "            return self.MagicIndex(array, mid + 1, max)\n",
    "        if array[mid] > mid:\n",
    "            return self.MagicIndex(array, min, mid - 1)\n",
    "\n",
    "\n",
    "if __name__ == '__main__':\n",
    "    array = [-14, -12, 0, 1, 2, 5, 5, 5, 5, 9, 10, 23, 25]\n",
    "    sol = Solution()\n",
    "    print(sol.MagicIndex(array, 0, len(array) - 1))\n"
   ]
  },
  {
   "cell_type": "code",
   "execution_count": null,
   "metadata": {
    "collapsed": true
   },
   "outputs": [],
   "source": []
  }
 ],
 "metadata": {
  "kernelspec": {
   "display_name": "Python 3",
   "language": "python",
   "name": "python3"
  },
  "language_info": {
   "codemirror_mode": {
    "name": "ipython",
    "version": 3
   },
   "file_extension": ".py",
   "mimetype": "text/x-python",
   "name": "python",
   "nbconvert_exporter": "python",
   "pygments_lexer": "ipython3",
   "version": "3.6.3"
  }
 },
 "nbformat": 4,
 "nbformat_minor": 2
}
