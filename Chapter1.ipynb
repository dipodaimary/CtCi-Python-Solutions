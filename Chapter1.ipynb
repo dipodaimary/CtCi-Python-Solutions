{
 "cells": [
  {
   "cell_type": "markdown",
   "metadata": {},
   "source": [
    "### 1.1\n",
    "Is Unique: Implement an algorithm to determine if a string has all unique characters. What if you\n",
    "cannot use additional data structures?"
   ]
  },
  {
   "cell_type": "code",
   "execution_count": 22,
   "metadata": {},
   "outputs": [
    {
     "name": "stdout",
     "output_type": "stream",
     "text": [
      "True\n",
      "True\n",
      "False\n"
     ]
    }
   ],
   "source": [
    "class Solution:\n",
    "    def isUnique(self, s):\n",
    "        dict = {}\n",
    "        for c in s:\n",
    "            if c not in dict:\n",
    "                dict[c] = 1\n",
    "            else:\n",
    "                return False\n",
    "        return True\n",
    "\n",
    "\n",
    "class Solution2A:\n",
    "    def isUnique(self, s):\n",
    "        if len(s) > 128:\n",
    "            return False\n",
    "        char_set = [False for _ in range(128)]\n",
    "        for c in s:\n",
    "            val = ord(c)\n",
    "            if char_set[val]:\n",
    "                # char alread found in string\n",
    "                return False\n",
    "            else:\n",
    "                char_set[val] = True\n",
    "        return True\n",
    "\n",
    "\n",
    "class Solution2B:\n",
    "    def isUnique(self, s):\n",
    "        if len(s) > 26:  # only 26 characters\n",
    "            return False\n",
    "        checker = 0\n",
    "        for c in s:\n",
    "            val = ord(c) - ord('a')\n",
    "            if (checker & (1 << val)) > 0:\n",
    "                return False\n",
    "            checker |= (1 << val)\n",
    "        return True\n",
    "\n",
    "if __name__ == '__main__':\n",
    "    str = \"cat\"\n",
    "    sol = Solution()\n",
    "    sol2 = Solution2A()\n",
    "    sol3 = Solution2B()\n",
    "    print(sol.isUnique(str))\n",
    "    print(sol2.isUnique(\"dog\"))\n",
    "    print(sol3.isUnique(\"dogdog\"))\n"
   ]
  },
  {
   "cell_type": "code",
   "execution_count": null,
   "metadata": {
    "collapsed": true
   },
   "outputs": [],
   "source": []
  }
 ],
 "metadata": {
  "kernelspec": {
   "display_name": "Python 3",
   "language": "python",
   "name": "python3"
  },
  "language_info": {
   "codemirror_mode": {
    "name": "ipython",
    "version": 3
   },
   "file_extension": ".py",
   "mimetype": "text/x-python",
   "name": "python",
   "nbconvert_exporter": "python",
   "pygments_lexer": "ipython3",
   "version": "3.6.3"
  }
 },
 "nbformat": 4,
 "nbformat_minor": 2
}
