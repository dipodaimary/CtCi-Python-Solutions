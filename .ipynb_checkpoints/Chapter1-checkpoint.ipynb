{
 "cells": [
  {
   "cell_type": "markdown",
   "metadata": {},
   "source": [
    "### 1.1\n",
    "Is Unique: Implement an algorithm to determine if a string has all unique characters. What if you\n",
    "cannot use additional data structures?"
   ]
  },
  {
   "cell_type": "code",
   "execution_count": 22,
   "metadata": {},
   "outputs": [
    {
     "name": "stdout",
     "output_type": "stream",
     "text": [
      "True\n",
      "True\n",
      "False\n"
     ]
    }
   ],
   "source": [
    "class Solution:\n",
    "    def isUnique(self, s):\n",
    "        dict = {}\n",
    "        for c in s:\n",
    "            if c not in dict:\n",
    "                dict[c] = 1\n",
    "            else:\n",
    "                return False\n",
    "        return True\n",
    "\n",
    "\n",
    "class Solution2A:\n",
    "    def isUnique(self, s):\n",
    "        if len(s) > 128:\n",
    "            return False\n",
    "        char_set = [False for _ in range(128)]\n",
    "        for c in s:\n",
    "            val = ord(c)\n",
    "            if char_set[val]:\n",
    "                # char alread found in string\n",
    "                return False\n",
    "            else:\n",
    "                char_set[val] = True\n",
    "        return True\n",
    "\n",
    "\n",
    "class Solution2B:\n",
    "    def isUnique(self, s):\n",
    "        if len(s) > 26:  # only 26 characters\n",
    "            return False\n",
    "        checker = 0\n",
    "        for c in s:\n",
    "            val = ord(c) - ord('a')\n",
    "            if (checker & (1 << val)) > 0:\n",
    "                return False\n",
    "            checker |= (1 << val)\n",
    "        return True\n",
    "\n",
    "if __name__ == '__main__':\n",
    "    str = \"cat\"\n",
    "    sol = Solution()\n",
    "    sol2 = Solution2A()\n",
    "    sol3 = Solution2B()\n",
    "    print(sol.isUnique(str))\n",
    "    print(sol2.isUnique(\"dog\"))\n",
    "    print(sol3.isUnique(\"dogdog\"))\n"
   ]
  },
  {
   "cell_type": "markdown",
   "metadata": {
    "collapsed": true
   },
   "source": [
    "### 1.2\n",
    "Check Permutation: Given two strings, write a method to decide if one is a permutation of the\n",
    "other."
   ]
  },
  {
   "cell_type": "code",
   "execution_count": 3,
   "metadata": {},
   "outputs": [
    {
     "name": "stdout",
     "output_type": "stream",
     "text": [
      "True\n",
      "True\n"
     ]
    }
   ],
   "source": [
    "class Solution:\n",
    "    def checkPermutation(self, s1, s2):\n",
    "        dict = {}\n",
    "        if len(s1) != len(s2):\n",
    "            return False\n",
    "        for c in s1:\n",
    "            if c not in dict:\n",
    "                dict[c] = 1\n",
    "            else:\n",
    "                dict[c] += 1\n",
    "        for c in s2:\n",
    "            if c not in dict:\n",
    "                return False\n",
    "            else:\n",
    "                dict[c] -= 1\n",
    "                if dict[c] == 0:\n",
    "                    dict.pop(c, None)\n",
    "\n",
    "        return not bool(dict)\n",
    "\n",
    "\n",
    "from collections import Counter\n",
    "# Counter is a subclass of dict that handles of counting hash table objects\n",
    "\n",
    "class Solution2:\n",
    "    def checkPermutation(self, s1, s2):\n",
    "        counter = Counter()\n",
    "        if len(s1) != len(s2):\n",
    "            return False\n",
    "        for c in s1:\n",
    "            counter[c] += 1\n",
    "        for c in s2:\n",
    "            if counter[c] == 0:\n",
    "                return False\n",
    "            else:\n",
    "                counter[c] -= 1\n",
    "        return True\n",
    "\n",
    "\n",
    "if __name__ == '__main__':\n",
    "    sol = Solution()\n",
    "    sol2 = Solution2()\n",
    "    print(sol.checkPermutation('fox', 'ofx'))\n",
    "    print(sol2.checkPermutation('fox', 'ofx'))\n"
   ]
  },
  {
   "cell_type": "markdown",
   "metadata": {},
   "source": [
    "### 1.3\n",
    "URLify: Write a method to replace all spaces in a string with '%20: You may assume that the string\n",
    "has sufficient space at the end to hold the additional characters, and that you are given the \"true\"\n",
    "length of the string. (Note: If implementing in Java, please use a character array so that you can\n",
    "perform this operation in place.)"
   ]
  },
  {
   "cell_type": "code",
   "execution_count": 15,
   "metadata": {},
   "outputs": [
    {
     "name": "stdout",
     "output_type": "stream",
     "text": [
      "dipo%20daimary\n",
      "['%', '2', '%', '2', '0', 'd', 'a', 'i', 'm', 'a', '%', '2']\n"
     ]
    }
   ],
   "source": [
    "class Solution:\n",
    "    def URLify(self, s):\n",
    "        return s.replace(' ', '%20')\n",
    "\n",
    "\n",
    "class Solution2:\n",
    "    def URLify(self, s, length):\n",
    "        new_index = len(s)\n",
    "        for i in reversed(range(length)):\n",
    "            if s[i] == ' ':\n",
    "                s[new_index - 3:new_index] = '%20'\n",
    "                new_index -= 3\n",
    "            else:\n",
    "                s[new_index - 1] = s[i]\n",
    "                new_index -= 1\n",
    "        return s\n",
    "\n",
    "\n",
    "if __name__ == '__main__':\n",
    "    sol = Solution()\n",
    "    sol2 = Solution2()\n",
    "    print(sol.URLify('dipo daimary'))\n",
    "    print(sol2.URLify(list('dipo daimary'), len('dipo daimary')))"
   ]
  },
  {
   "cell_type": "markdown",
   "metadata": {},
   "source": [
    "### 1.4\n",
    "Palindrome Permutation: Given a string, write a function to check if it is a permutation of a palin-\n",
    "drome. A palindrome is a word or phrase that is the same forwards and backwards. A permutation\n",
    "is a rea rrangement of letters. The palindrome does not need to be limited to just dictionary words.\n",
    "EXAMPLE\n",
    "Input: Tact Coa\n",
    "Output: True (permutations: \"taco cat\". \"atco cta\". etc.)"
   ]
  },
  {
   "cell_type": "code",
   "execution_count": 16,
   "metadata": {},
   "outputs": [
    {
     "name": "stdout",
     "output_type": "stream",
     "text": [
      "True\n"
     ]
    }
   ],
   "source": [
    "class Solution:\n",
    "    def checkPalindrome(self, s):\n",
    "        list = []\n",
    "        for c in s:\n",
    "            if c != ' ':\n",
    "                list.append(c)\n",
    "        length = len(list)\n",
    "        for i in range(length // 2):\n",
    "            if list[i] != list[length - i - 1]:\n",
    "                return False\n",
    "        return True\n",
    "\n",
    "\n",
    "if __name__ == '__main__':\n",
    "    sol = Solution()\n",
    "    print(sol.checkPalindrome('taco cat'))"
   ]
  },
  {
   "cell_type": "markdown",
   "metadata": {},
   "source": [
    "### 1.5\n",
    "One Away: There are three types of edits that can be performed on strings: insert a character,\n",
    "remove a character, or replace a character. Given two strings, write a function to check if they are\n",
    "one edit (or zero edits) away.\n",
    "EXAMPLE\n",
    "-> true\n",
    "pales. pale -> true\n",
    "pale, pIe pale. bale -> true\n",
    "pale. bake -> false"
   ]
  },
  {
   "cell_type": "code",
   "execution_count": 17,
   "metadata": {},
   "outputs": [
    {
     "name": "stdout",
     "output_type": "stream",
     "text": [
      "False\n"
     ]
    }
   ],
   "source": [
    "class Solution:\n",
    "    def oneAway(self, s1, s2):\n",
    "        if len(s1) == len(s2):\n",
    "            return self.one_edit_replace(s1, s2)\n",
    "        if len(s1) > len(s2):\n",
    "            return self.one_edit_insert(s1, s2)\n",
    "        if len(s2) > len(s1):\n",
    "            return self.one_edit_insert(s2, s1)\n",
    "\n",
    "    def one_edit_replace(self, s1, s2):\n",
    "        edited = False\n",
    "        for c1, c2 in zip(s1, s2):\n",
    "            if c1 != c2:\n",
    "                if edited:\n",
    "                    return False\n",
    "                else:\n",
    "                    edited = True\n",
    "        return True\n",
    "\n",
    "    def one_edit_insert(self, s1, s2):\n",
    "        edited = False\n",
    "        i, j = 0, 0\n",
    "        while i < len(s1) and j < len(s2):\n",
    "            if s1[i] != s2[j]:\n",
    "                if edited:\n",
    "                    return False\n",
    "                else:\n",
    "                    edited = True\n",
    "                    j += 1\n",
    "            else:\n",
    "                i += 1\n",
    "                j += 1\n",
    "        return True\n",
    "\n",
    "\n",
    "if __name__ == '__main__':\n",
    "    sol = Solution()\n",
    "    print(sol.oneAway('pale', 'ble'))"
   ]
  }
 ],
 "metadata": {
  "kernelspec": {
   "display_name": "Python 3",
   "language": "python",
   "name": "python3"
  },
  "language_info": {
   "codemirror_mode": {
    "name": "ipython",
    "version": 3
   },
   "file_extension": ".py",
   "mimetype": "text/x-python",
   "name": "python",
   "nbconvert_exporter": "python",
   "pygments_lexer": "ipython3",
   "version": "3.6.3"
  }
 },
 "nbformat": 4,
 "nbformat_minor": 2
}
