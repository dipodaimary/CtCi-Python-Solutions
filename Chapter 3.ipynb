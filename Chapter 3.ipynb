{
 "cells": [
  {
   "cell_type": "code",
   "execution_count": 6,
   "metadata": {},
   "outputs": [
    {
     "name": "stdout",
     "output_type": "stream",
     "text": [
      "[0, 0, 0, 0, 0, 0, 0, 0, 0, 0, 0, 0]\n",
      "[[0, 0, 0], [0, 0, 0], [0, 0, 0], [0, 0, 0], [0, 0, 0], [0, 0, 0]]\n"
     ]
    }
   ],
   "source": [
    "print([0]*(3*4))\n",
    "print([[0 for _ in range(3)] for _ in range(6)])"
   ]
  },
  {
   "cell_type": "markdown",
   "metadata": {},
   "source": [
    "### 3 in One Stack \n",
    "Describe how you could use a single array to implement three stacks."
   ]
  },
  {
   "cell_type": "code",
   "execution_count": 31,
   "metadata": {
    "collapsed": true
   },
   "outputs": [],
   "source": [
    "class MultiStack:\n",
    "    def __init__(self, stacksize):\n",
    "        self.numstacks = 3\n",
    "        self.array = [0] * (stacksize * self.numstacks)\n",
    "        self.sizes = [0] * self.numstacks\n",
    "        self.stacksize = stacksize\n",
    "\n",
    "    def Push(self, item, stacknum):\n",
    "        if self.IsFull(stacknum):\n",
    "            raise Exception('Stack is Full')\n",
    "        self.sizes[stacknum] += 1\n",
    "        self.array[self.IndexOfTop(stacknum)] = item\n",
    "\n",
    "    def Pop(self, stacknum):\n",
    "        if self.IsEmpty(stacknum):\n",
    "            raise Exception('Stack is Empty')\n",
    "        value = self.array[self.IndexOfTop(stacknum)]\n",
    "        self.array[self.IndexOfTop(stacknum)] = 0\n",
    "        self.sizes[stacknum] -= 1\n",
    "        return value\n",
    "\n",
    "    def Peek(self, stacknum):\n",
    "        if self.IsEmpty(stacknum):\n",
    "            raise Exception('Stack is Empty')\n",
    "        return self.array[self.IndexOfTop(stacknum)]\n",
    "\n",
    "    def IsEmpty(self, stacknum):\n",
    "        return self.sizes[stacknum] == 0\n",
    "\n",
    "    def IsFull(self, stacknum):\n",
    "        return self.sizes[stacknum] == self.stacksize\n",
    "\n",
    "    def IndexOfTop(self, stacknum):\n",
    "        offset = stacknum * self.stacksize\n",
    "        return offset + self.sizes[stacknum] - 1"
   ]
  },
  {
   "cell_type": "code",
   "execution_count": 32,
   "metadata": {},
   "outputs": [
    {
     "name": "stdout",
     "output_type": "stream",
     "text": [
      "True\n",
      "3\n",
      "False\n",
      "2\n",
      "2\n",
      "3\n"
     ]
    }
   ],
   "source": [
    "def ThreeInOne():\n",
    "    newstack = MultiStack(2)\n",
    "    print(newstack.IsEmpty(1))\n",
    "    newstack.Push(3, 1)\n",
    "    print(newstack.Peek(1))\n",
    "    print(newstack.IsEmpty(1))\n",
    "    newstack.Push(2, 1)\n",
    "    print(newstack.Peek(1))\n",
    "    print(newstack.Pop(1))\n",
    "    print(newstack.Peek(1))\n",
    "    newstack.Push(3, 1)\n",
    "\n",
    "ThreeInOne()"
   ]
  },
  {
   "cell_type": "markdown",
   "metadata": {},
   "source": [
    "###  Stack Min\n",
    "How would you design a stack which, in addition to push and pop, has a function min\n",
    "which returns the minimum element? Push, pop and min should all operate in 0(1) time."
   ]
  },
  {
   "cell_type": "code",
   "execution_count": 33,
   "metadata": {
    "collapsed": true
   },
   "outputs": [],
   "source": [
    "import sys\n",
    "\n",
    "\n",
    "class MultiStack:\n",
    "    def __init__(self, stacksize):\n",
    "        self.numstacks = 1\n",
    "        self.array = [0] * (stacksize * self.numstacks)\n",
    "        self.sizes = [0] * self.numstacks\n",
    "        self.stacksize = stacksize\n",
    "        self.minvals = [sys.maxsize] * (stacksize * self.numstacks)\n",
    "\n",
    "    def Push(self, item, stacknum):\n",
    "        if self.IsFull(stacknum):\n",
    "            raise Exception('Stack is Full')\n",
    "        self.sizes[stacknum] += 1\n",
    "        if self.IsEmpty(stacknum):\n",
    "            self.minvals[self.IndexOfTop(stacknum)] = item\n",
    "        else:\n",
    "            self.minvals[self.IndexOfTop(stacknum)] = min(item,\n",
    "                                                          self.minvals[self.minvals[self.IndexOfTop(stacknum) - 1]])\n",
    "        self.array[self.IndexOfTop(stacknum)] = item\n",
    "\n",
    "    def Pop(self, stacknum):\n",
    "        if self.IsEmpty(stacknum):\n",
    "            raise Exception('Stack is Empty')\n",
    "        value = self.array[self.IndexOfTop(stacknum)]\n",
    "        self.array[self.IndexOfTop(stacknum)] = 0\n",
    "        self.sizes[stacknum] -= 1\n",
    "        return value\n",
    "\n",
    "    def Peek(self, stacknum):\n",
    "        if self.IsEmpty(stacknum):\n",
    "            raise Exception('Stack is Empty')\n",
    "\n",
    "    def Min(self, stacknum):\n",
    "        return self.minvals[self.IndexOfTop(stacknum)]\n",
    "\n",
    "    def IsEmpty(self, stacknum):\n",
    "        return self.sizes[stacknum] == 0\n",
    "\n",
    "    def IsFull(self, stacknum):\n",
    "        return self.sizes[stacknum] == self.stacksize\n",
    "\n",
    "    def IndexOfTop(self, stacknum):\n",
    "        offset = stacknum * self.stacksize\n",
    "        return offset + self.sizes[stacknum] - 1\n"
   ]
  },
  {
   "cell_type": "code",
   "execution_count": 1,
   "metadata": {},
   "outputs": [
    {
     "ename": "NameError",
     "evalue": "name 'MultiStack' is not defined",
     "output_type": "error",
     "traceback": [
      "\u001b[0;31m---------------------------------------------------------------------------\u001b[0m",
      "\u001b[0;31mNameError\u001b[0m                                 Traceback (most recent call last)",
      "\u001b[0;32m<ipython-input-1-65c6c693f45e>\u001b[0m in \u001b[0;36m<module>\u001b[0;34m()\u001b[0m\n\u001b[1;32m     14\u001b[0m     \u001b[0mprint\u001b[0m\u001b[0;34m(\u001b[0m\u001b[0mnewstack\u001b[0m\u001b[0;34m.\u001b[0m\u001b[0mMin\u001b[0m\u001b[0;34m(\u001b[0m\u001b[0;36m0\u001b[0m\u001b[0;34m)\u001b[0m\u001b[0;34m)\u001b[0m\u001b[0;34m\u001b[0m\u001b[0m\n\u001b[1;32m     15\u001b[0m \u001b[0;34m\u001b[0m\u001b[0m\n\u001b[0;32m---> 16\u001b[0;31m \u001b[0mStackMin\u001b[0m\u001b[0;34m(\u001b[0m\u001b[0;34m)\u001b[0m\u001b[0;34m\u001b[0m\u001b[0m\n\u001b[0m",
      "\u001b[0;32m<ipython-input-1-65c6c693f45e>\u001b[0m in \u001b[0;36mStackMin\u001b[0;34m()\u001b[0m\n\u001b[1;32m      1\u001b[0m \u001b[0;32mdef\u001b[0m \u001b[0mStackMin\u001b[0m\u001b[0;34m(\u001b[0m\u001b[0;34m)\u001b[0m\u001b[0;34m:\u001b[0m\u001b[0;34m\u001b[0m\u001b[0m\n\u001b[0;32m----> 2\u001b[0;31m     \u001b[0mnewstack\u001b[0m \u001b[0;34m=\u001b[0m \u001b[0mMultiStack\u001b[0m\u001b[0;34m(\u001b[0m\u001b[0;36m10\u001b[0m\u001b[0;34m)\u001b[0m\u001b[0;34m\u001b[0m\u001b[0m\n\u001b[0m\u001b[1;32m      3\u001b[0m     \u001b[0mnewstack\u001b[0m\u001b[0;34m.\u001b[0m\u001b[0mPush\u001b[0m\u001b[0;34m(\u001b[0m\u001b[0;36m5\u001b[0m\u001b[0;34m,\u001b[0m \u001b[0;36m0\u001b[0m\u001b[0;34m)\u001b[0m\u001b[0;34m\u001b[0m\u001b[0m\n\u001b[1;32m      4\u001b[0m     \u001b[0mnewstack\u001b[0m\u001b[0;34m.\u001b[0m\u001b[0mPush\u001b[0m\u001b[0;34m(\u001b[0m\u001b[0;36m6\u001b[0m\u001b[0;34m,\u001b[0m \u001b[0;36m0\u001b[0m\u001b[0;34m)\u001b[0m\u001b[0;34m\u001b[0m\u001b[0m\n\u001b[1;32m      5\u001b[0m     \u001b[0mnewstack\u001b[0m\u001b[0;34m.\u001b[0m\u001b[0mPush\u001b[0m\u001b[0;34m(\u001b[0m\u001b[0;36m2\u001b[0m\u001b[0;34m,\u001b[0m \u001b[0;36m0\u001b[0m\u001b[0;34m)\u001b[0m\u001b[0;34m\u001b[0m\u001b[0m\n",
      "\u001b[0;31mNameError\u001b[0m: name 'MultiStack' is not defined"
     ]
    }
   ],
   "source": [
    "def StackMin():\n",
    "    newstack = MultiStack(10)\n",
    "    newstack.Push(5, 0)\n",
    "    newstack.Push(6, 0)\n",
    "    newstack.Push(2, 0)\n",
    "    newstack.Push(7, 0)\n",
    "    newstack.Push(14, 0)\n",
    "    newstack.Push(3, 0)\n",
    "    print(newstack.Min(0))\n",
    "    newstack.Push(1, 0)\n",
    "    newstack.Push(4, 0)\n",
    "    newstack.Push(44, 0)\n",
    "    newstack.Push(2, 0)\n",
    "    print(newstack.Min(0))\n",
    "\n",
    "StackMin()\n"
   ]
  },
  {
   "cell_type": "markdown",
   "metadata": {},
   "source": [
    "### 3.3\n",
    "Stack of Plates "
   ]
  },
  {
   "cell_type": "code",
   "execution_count": 4,
   "metadata": {
    "collapsed": true
   },
   "outputs": [],
   "source": [
    "class Node(object):\n",
    "    def __int__(self, value):\n",
    "        self.value = value\n",
    "        self.above = None\n",
    "        self.below = None\n",
    "\n",
    "\n",
    "class Stack(object):\n",
    "    def __int__(self, capacity):\n",
    "        self.capacity = capacity\n",
    "        self.size = 0\n",
    "        self.top = None\n",
    "        self.bottom = None\n",
    "\n",
    "    def is_full(self):\n",
    "        return self.size == self.capacity\n",
    "\n",
    "    def is_empty(self):\n",
    "        return self.size == 0\n",
    "\n",
    "    def join(self, below, above):\n",
    "        if below:\n",
    "            self.below.above = above\n",
    "        if above:\n",
    "            self.above.below = below\n",
    "\n",
    "    def push(self, v):\n",
    "        if self.size >= self.capacity:\n",
    "            return False\n",
    "        self.size += 1\n",
    "        n = Node(v)\n",
    "        if self.size == 1:\n",
    "            self.bottom = n\n",
    "        self.join(n, self.top)\n",
    "        self.top = n\n",
    "        return True\n",
    "\n",
    "    def pop(self):\n",
    "        if not self.top:\n",
    "            return None\n",
    "        t = self.top\n",
    "        self.top = self.top.below\n",
    "        self.size -= 1\n",
    "        return t.value\n",
    "\n",
    "    def remove_bottom(self):\n",
    "        b = self.bottom\n",
    "        self.bottom = self.bottom.above\n",
    "        if self.bottom:\n",
    "            self.bottom.below = None\n",
    "        self.size -= 1\n",
    "        return b.value\n",
    "\n",
    "\n",
    "class SetOfStacks(object):\n",
    "    def __int__(self, capacity):\n",
    "        self.capactiy = capacity\n",
    "        self.stacks = []\n",
    "\n",
    "    def get_last_stack(self):\n",
    "        if not self.stacks:\n",
    "            return None\n",
    "        else:\n",
    "            return self.stacks[-1]\n",
    "\n",
    "    def is_empty(self):\n",
    "        last = self.get_last_stack()\n",
    "        return not last or last.is_empty()\n",
    "\n",
    "    def push(self, v):\n",
    "        last = self.get_last_stack()\n",
    "        if last and not last.is_full():\n",
    "            last.push(v)\n",
    "        else:\n",
    "            stack = Stack(self.capactiy)\n",
    "            stack.push(v)\n",
    "            self.stacks.append(stack)\n",
    "\n",
    "    def pop(self):\n",
    "        last = self.get_last_stack()\n",
    "        if not last:\n",
    "            return None\n",
    "        v = last.pop()\n",
    "        if last.size == 0:\n",
    "            del self.stacks[-1]\n",
    "        return v\n",
    "\n",
    "    def pop_at(self, index):\n",
    "        return self.left_shift(index, True)\n",
    "\n",
    "    def left_shift(self, index, remove_top):\n",
    "        stack = self.stacks[index]\n",
    "        removed_item = stack.pop() if remove_top else stack.remove_bottom()\n",
    "        if stack.is_empty():\n",
    "            del self.stacks[index]\n",
    "        elif len(self.stacks) > index + 1:\n",
    "            v = self.left_shift(index + 1, False)\n",
    "            stack.push(v)\n",
    "        return removed_item"
   ]
  }
 ],
 "metadata": {
  "kernelspec": {
   "display_name": "Python 3",
   "language": "python",
   "name": "python3"
  },
  "language_info": {
   "codemirror_mode": {
    "name": "ipython",
    "version": 3
   },
   "file_extension": ".py",
   "mimetype": "text/x-python",
   "name": "python",
   "nbconvert_exporter": "python",
   "pygments_lexer": "ipython3",
   "version": "3.6.3"
  }
 },
 "nbformat": 4,
 "nbformat_minor": 2
}
