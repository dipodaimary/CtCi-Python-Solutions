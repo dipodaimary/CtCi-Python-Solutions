{
 "cells": [
  {
   "cell_type": "markdown",
   "metadata": {},
   "source": [
    "### 8.1\n",
    "Triple Step: A child is running up a staircase with n steps and can hop either 1 step, 2 steps, or 3\n",
    "steps at a time. Implement a method to count how many possible ways the child can run up the\n",
    "stairs."
   ]
  },
  {
   "cell_type": "code",
   "execution_count": 3,
   "metadata": {
    "scrolled": false
   },
   "outputs": [
    {
     "name": "stdout",
     "output_type": "stream",
     "text": [
      "274\n",
      "274\n"
     ]
    }
   ],
   "source": [
    "class Solution:\n",
    "    def TripleHop(self, x):\n",
    "        if x < 0:\n",
    "            return 0\n",
    "        if x == 0:\n",
    "            return 1\n",
    "        if x == 1:\n",
    "            return 1\n",
    "        return self.TripleHop(x - 1) + self.TripleHop(x - 2) + self.TripleHop(x - 3)\n",
    "\n",
    "    def TripleHopRecursive(self, x, memo):\n",
    "        if x < 0:\n",
    "            return 0\n",
    "        memo[0] = 1\n",
    "        if x >= 1:\n",
    "            memo[1] = 1\n",
    "        if x >= 2:\n",
    "            memo[2] = memo[1] + memo[0]\n",
    "        if x > 2:\n",
    "            for i in range(3, x + 1):\n",
    "                memo[i] = memo[i - 1] + memo[i - 2] + memo[i - 3]\n",
    "        return memo[x]\n",
    "\n",
    "    def Method2(self, x):\n",
    "        memo = [-1] * (x + 1)\n",
    "        return self.TripleHopRecursive(x, memo)\n",
    "\n",
    "\n",
    "if __name__ == '__main__':\n",
    "    sol = Solution()\n",
    "    print(sol.TripleHop(10))\n",
    "    print(sol.Method2(10))"
   ]
  },
  {
   "cell_type": "markdown",
   "metadata": {},
   "source": [
    "### 8.2\n",
    "Robot in a Grid: Imagine a robot sitting on the upper left corner of grid with r rows and c columns.\n",
    "The robot can only move in two directions, right and down, but certain cells are \"off limits\" such that\n",
    "the robot cannot step on them. Design an algorithm to find a path for the robot from the top left to\n",
    "the bottom right."
   ]
  },
  {
   "cell_type": "code",
   "execution_count": 6,
   "metadata": {},
   "outputs": [
    {
     "name": "stdout",
     "output_type": "stream",
     "text": [
      "[(0, 0), (1, 0), (1, 1)]\n",
      "[(0, 0), (0, 1), (1, 1)]\n",
      "[(0, 0), (1, 0), (1, 1)]\n",
      "[(0, 0), (0, 1), (1, 1)]\n"
     ]
    }
   ],
   "source": [
    "class Solution:\n",
    "    def getPath(self, maze):\n",
    "        if maze == None or len(maze) == 0:\n",
    "            return None\n",
    "        path = []\n",
    "        if self.isPath(maze, len(maze) - 1, len(maze[0]) - 1, path):\n",
    "            return path\n",
    "        return None\n",
    "\n",
    "    def isPath(self, maze, row, col, path):\n",
    "        if col < 0 or row < 0 or not maze[row][col]:\n",
    "            return False\n",
    "        isAtOrigin = (row == 0) and (col == 0)\n",
    "\n",
    "        if isAtOrigin or self.isPath(maze, row, col - 1, path) or self.isPath(maze, row - 1, col, path):\n",
    "            point = (row, col)\n",
    "            path.append(point)\n",
    "            return True\n",
    "        return False\n",
    "\n",
    "\n",
    "class Solution2:\n",
    "    def getPathMemoized(self, maze):\n",
    "        if maze == None or len(maze) == 0:\n",
    "            return None\n",
    "        path = []\n",
    "        failedPoints = []\n",
    "        if self.isPathMemoized(maze, len(maze) - 1, len(maze[0]) - 1, path, failedPoints):\n",
    "            return path\n",
    "        return None\n",
    "\n",
    "    def isPathMemoized(self, maze, row, col, path, failedPoints):\n",
    "        if col < 0 or row < 0 or not maze[row][col]:\n",
    "            return False\n",
    "        point = (row, col)\n",
    "        if point in failedPoints:\n",
    "            return False\n",
    "        isAtOrigin = (row == 0) and (col == 0)\n",
    "        if isAtOrigin or self.isPathMemoized(maze, row, col - 1, path, failedPoints) or self.isPathMemoized(maze,\n",
    "                                                                                                            row - 1,\n",
    "                                                                                                            col, path,\n",
    "                                                                                                            failedPoints):\n",
    "            path.append(point)\n",
    "            return True\n",
    "\n",
    "\n",
    "if __name__ == '__main__':\n",
    "    sol = Solution()\n",
    "    sol2 = Solution2()\n",
    "    print(sol.getPath([[True, True], [True, True]]))\n",
    "    print(sol.getPath([[True, True], [False, True]]))\n",
    "    print(sol2.getPathMemoized([[True, True], [True, True]]))\n",
    "    print(sol2.getPathMemoized([[True, True], [False, True]]))\n"
   ]
  },
  {
   "cell_type": "markdown",
   "metadata": {},
   "source": [
    "### 8.3 Magic Index:\n",
    "A magic index in an array A [0 ... n -1] is defined to be an index such that A[ i] =\n",
    "i. Given a sorted array of distinct integers, write a method to find a magic index, if one exists, in\n",
    "array A."
   ]
  },
  {
   "cell_type": "code",
   "execution_count": 14,
   "metadata": {},
   "outputs": [
    {
     "name": "stdout",
     "output_type": "stream",
     "text": [
      "9\n"
     ]
    }
   ],
   "source": [
    "class Solution:\n",
    "    def MagicIndex(self, array, min, max):\n",
    "        mid = int((max + min) / 2)\n",
    "        if min > max:\n",
    "            return None\n",
    "        if array[mid] == mid:\n",
    "            return mid\n",
    "        if array[mid] < mid:\n",
    "            return self.MagicIndex(array, mid + 1, max)\n",
    "        if array[mid] > mid:\n",
    "            return self.MagicIndex(array, min, mid - 1)\n",
    "\n",
    "\n",
    "if __name__ == '__main__':\n",
    "    array = [-14, -12, 0, 1, 2, 5, 5, 5, 5, 9, 10, 23, 25]\n",
    "    sol = Solution()\n",
    "    print(sol.MagicIndex(array, 0, len(array) - 1))\n"
   ]
  },
  {
   "cell_type": "markdown",
   "metadata": {},
   "source": [
    "### 8.4 Power Set:\n",
    "Write a method to return all subsets of a set. "
   ]
  },
  {
   "cell_type": "code",
   "execution_count": 16,
   "metadata": {},
   "outputs": [
    {
     "name": "stdout",
     "output_type": "stream",
     "text": [
      "[[], [1], [2], [1, 2], [3], [1, 3], [2, 3], [1, 2, 3]]\n"
     ]
    }
   ],
   "source": [
    "class Solution_recursive:\n",
    "    def getSubsets(self, setz, index):\n",
    "        allSubsets = []\n",
    "        if len(setz) == index:\n",
    "            if [] not in allSubsets:\n",
    "                allSubsets.append([])\n",
    "        else:\n",
    "            allSubsets = self.getSubsets(setz, index + 1)\n",
    "            item = setz[index]\n",
    "            moreSubsets = []\n",
    "            for subset in allSubsets:\n",
    "                newSubset = []\n",
    "                [newSubset.append(value) for value in subset if value not in newSubset]\n",
    "                newSubset.append(item)\n",
    "                moreSubsets.append(newSubset)\n",
    "            [allSubsets.appen(value) for value in moreSubsets if value not in newSubset]\n",
    "        return allSubsets\n",
    "\n",
    "\n",
    "class Solution_combinatorics:\n",
    "    def getSubsets(self, aset):\n",
    "        allSubsets = []\n",
    "        max = 1 << len(aset)\n",
    "        for k in range(max):\n",
    "            subset = self.convertToIntSet(k, aset)\n",
    "            allSubsets.append(subset)\n",
    "        return allSubsets\n",
    "\n",
    "    def convertToIntSet(self, x, aset):\n",
    "        subset = []\n",
    "        index = 0\n",
    "        k = x\n",
    "        while k > 0:\n",
    "            if k & 1 == 1 and aset[index] not in subset:\n",
    "                subset.append(aset[index])\n",
    "            index += 1\n",
    "            k >>= 1\n",
    "        return subset\n",
    "\n",
    "\n",
    "if __name__ == '__main__':\n",
    "    # sol_r = Solution_recursive()\n",
    "    sol_c = Solution_combinatorics()\n",
    "    # print(sol_r.getSubsets([1, 2, 3], 0))\n",
    "    print(sol_c.getSubsets([1, 2, 3]))\n"
   ]
  },
  {
   "cell_type": "markdown",
   "metadata": {},
   "source": [
    "### 8.3 Recursive Multiply:\n",
    "Write a recursive function to multiply two positive integers without using the * operator. You can use addition, subtraction, and bit shifting, but you should minimize the number\n",
    "of those operations."
   ]
  },
  {
   "cell_type": "code",
   "execution_count": 18,
   "metadata": {},
   "outputs": [
    {
     "name": "stdout",
     "output_type": "stream",
     "text": [
      "6\n",
      "6\n",
      "6\n"
     ]
    }
   ],
   "source": [
    "class Solution_naive:\n",
    "    def multiply(self, a, b, answer):\n",
    "        if a != 0 and b != 0 and answer == 0:\n",
    "            answer = a\n",
    "        if a == 1:\n",
    "            return answer\n",
    "        if b == 1:\n",
    "            return answer\n",
    "        else:\n",
    "            answer += a\n",
    "            return self.multiply(a, b - 1, answer)\n",
    "\n",
    "\n",
    "class Solution_combinatorics:\n",
    "    def minProduct(self, a, b):\n",
    "        smaller = a if a < b else b\n",
    "        bigger = a if a > b else b\n",
    "        return self.minProductHelper(smaller, bigger)\n",
    "\n",
    "    def minProductHelper(self, smaller, bigger):\n",
    "        if smaller == 0:\n",
    "            return 0\n",
    "        if smaller == 1:\n",
    "            return bigger\n",
    "        s = smaller >> 1\n",
    "        side1 = self.minProduct(s, bigger)\n",
    "        side2 = side1\n",
    "        if smaller % 2 == 1:\n",
    "            side2 = self.minProduct(smaller - s, bigger)\n",
    "        return side1 + side2\n",
    "\n",
    "\n",
    "class Solution_combinatorics_modified:\n",
    "    def minProduct(self, a, b):\n",
    "        smaller = a if a < b else b\n",
    "        bigger = a if a > b else b\n",
    "        return self.minProductHelper(smaller, bigger)\n",
    "\n",
    "    def minProductHelper(self, smaller, bigger):\n",
    "        if smaller == 0:\n",
    "            return 0\n",
    "        if smaller == 1:\n",
    "            return bigger\n",
    "        s = smaller >> 1\n",
    "        halfprod = self.minProduct(s, bigger)\n",
    "        if smaller % 2 == 0:\n",
    "            return halfprod + halfprod\n",
    "        else:\n",
    "            return halfprod + halfprod + bigger\n",
    "\n",
    "\n",
    "if __name__ == '__main__':\n",
    "    sol_n = Solution_naive()\n",
    "    print(sol_n.multiply(2, 3, 0))\n",
    "    sol_c = Solution_combinatorics()\n",
    "    print(sol_c.minProduct(2, 3))\n",
    "    sol_cm = Solution_combinatorics_modified()\n",
    "    print(sol_cm.minProduct(2, 3))\n"
   ]
  },
  {
   "cell_type": "markdown",
   "metadata": {},
   "source": [
    "### 8.6 Towers of Hanoi:\n",
    "In the classic problem of the Towers of Hanoi, you have 3 towers and N disks of\n",
    "different sizes which can slide onto any tower. The puzzle starts with disks sorted in ascending order\n",
    "of size from top to bottom (Le., each disk sits on top of an even larger one). You have the following\n",
    "constraints:\n",
    "\n",
    "(1) Only one disk can be moved at a time.\n",
    "\n",
    "(2) A disk is slid off the top of one tower onto another tower.\n",
    "\n",
    "(3) A disk cannot be placed on top of a smaller disk.\n",
    "Write a program to move the disks from the first tower to the last using stacks."
   ]
  },
  {
   "cell_type": "code",
   "execution_count": 19,
   "metadata": {},
   "outputs": [
    {
     "name": "stdout",
     "output_type": "stream",
     "text": [
      "-\n",
      "--\n",
      "---\n"
     ]
    }
   ],
   "source": [
    "import sys\n",
    "\n",
    "\n",
    "class MultiStack:\n",
    "\n",
    "    def __init__(self, stacksize):\n",
    "        self.numstacks = 3\n",
    "        self.array = [0] * (stacksize * self.numstacks)\n",
    "        self.sizes = [0] * self.numstacks\n",
    "        self.stacksize = stacksize\n",
    "        self.minvals = [sys.maxsize] * (stacksize * self.numstacks)\n",
    "\n",
    "    def Push(self, item, stacknum):\n",
    "        if self.IsFull(stacknum):\n",
    "            raise Exception('Stack is full')\n",
    "        self.sizes[stacknum] += 1\n",
    "        if self.IsEmpty(stacknum):\n",
    "            self.minvals[self.IndexOfTop(stacknum)] = item\n",
    "        else:\n",
    "            self.minvals[self.IndexOfTop(stacknum)] = min(\n",
    "                item, self.minvals[self.IndexOfTop(stacknum) - 1])\n",
    "        self.array[self.IndexOfTop(stacknum)] = item\n",
    "\n",
    "    def Pop(self, stacknum):\n",
    "        if self.IsEmpty(stacknum):\n",
    "            raise Exception('Stack is empty')\n",
    "        value = self.array[self.IndexOfTop(stacknum)]\n",
    "        self.array[self.IndexOfTop(stacknum)] = 0\n",
    "        self.sizes[stacknum] -= 1\n",
    "        return value\n",
    "\n",
    "    def Peek(self, stacknum):\n",
    "        if self.IsEmpty(stacknum):\n",
    "            raise Exception('Stack is empty')\n",
    "        return self.array[self.IndexOfTop(stacknum)]\n",
    "\n",
    "    def Min(self, stacknum):\n",
    "        return self.minvals[self.IndexOfTop(stacknum)]\n",
    "\n",
    "    def IsEmpty(self, stacknum):\n",
    "        return self.sizes[stacknum] == 0\n",
    "\n",
    "    def IsFull(self, stacknum):\n",
    "        return self.sizes[stacknum] == self.stacksize\n",
    "\n",
    "    def IndexOfTop(self, stacknum):\n",
    "        offset = stacknum * self.stacksize\n",
    "        return offset + self.sizes[stacknum] - 1\n",
    "\n",
    "    def Size(self, stacknum):\n",
    "        return self.sizes[stacknum]\n",
    "\n",
    "\n",
    "class Solution:\n",
    "    def f(self, N, start, end, buff, stack):\n",
    "        if N == 1:\n",
    "            stack.Push(stack.Pop(start), end)\n",
    "        else:\n",
    "            self.f(N - 1, start, buff, end, stack)\n",
    "            self.f(1, start, end, buff, stack)\n",
    "            self.f(N - 1, buff, end, start, stack)\n",
    "\n",
    "    def printTower(self, newstack):\n",
    "        # while not newstack.IsEmpty(0):\n",
    "        # print newstack.Pop(0)\n",
    "        # print \"\".join(\"-\" for i in range(newstack.Pop(0)))\n",
    "        # while not newstack.IsEmpty(1):\n",
    "        # print newstack.Pop(1)\n",
    "        # print \"\".join(\"-\" for i in range(newstack.Pop(1)))\n",
    "        while not newstack.IsEmpty(2):\n",
    "            # print newstack.Pop(2)\n",
    "            print(\"\".join(\"-\" for i in range(newstack.Pop(2))))\n",
    "\n",
    "    def FillTower(self, N):\n",
    "        newstack = MultiStack(N * 3)\n",
    "        for i in range(N, 0, -1):\n",
    "            newstack.Push(i, 0)\n",
    "        return newstack\n",
    "\n",
    "\n",
    "if __name__ == '__main__':\n",
    "    sol = Solution()\n",
    "    N = 3\n",
    "    newstack = sol.FillTower(N)\n",
    "    sol.f(N, 0, 2, 1, newstack)\n",
    "    sol.printTower(newstack)\n"
   ]
  },
  {
   "cell_type": "code",
   "execution_count": null,
   "metadata": {
    "collapsed": true
   },
   "outputs": [],
   "source": []
  }
 ],
 "metadata": {
  "kernelspec": {
   "display_name": "Python 3",
   "language": "python",
   "name": "python3"
  },
  "language_info": {
   "codemirror_mode": {
    "name": "ipython",
    "version": 3
   },
   "file_extension": ".py",
   "mimetype": "text/x-python",
   "name": "python",
   "nbconvert_exporter": "python",
   "pygments_lexer": "ipython3",
   "version": "3.6.3"
  }
 },
 "nbformat": 4,
 "nbformat_minor": 2
}
